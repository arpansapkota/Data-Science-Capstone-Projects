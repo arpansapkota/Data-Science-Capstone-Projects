{
 "cells": [
  {
   "cell_type": "markdown",
   "metadata": {},
   "source": [
    "# Customer Behaviour Prediction in Retail Industry - Starbucks \n",
    "\n",
    "\n",
    "### Contents \n",
    "\n",
    "<ul>\n",
    "<li><a href=\"#Introduction\">1. Introduction</a></li>\n",
    "\n",
    "<li><a href=\"#Preparation\">2. Data Preparation/ Cleaning</a></li>\n",
    "&emsp;2.1. Portfolio Dataframe  <br>\n",
    "&emsp;2.2. Profile Dataframe <br> \n",
    "&emsp;2.3. Transcript Dataframe<br> \n",
    "\n",
    "<li><a href=\"#Exploration\">3. Data Exploration</a></li>\n",
    "&emsp;3.1. Current Business Situations <br>\n",
    "&emsp;3.2. Customer Demographics <br>  \n",
    "&emsp;3.3. Characteristics of Starbucks Offers <br>\n",
    "&emsp;3.4. Customer Purchasing Patterns <br>  \n",
    " \n",
    "<li><a href=\"#Analysis\">4. Data Analysis</a></li>\n",
    "&emsp;4.1. Feature Engineering  <br>  \n",
    "    \n",
    " \n",
    "&emsp;4.2. Data Spliting <br>\n",
    "&emsp;4.3. Data Balancing <br>\n",
    "&emsp;4.4. Model Comparison <br>\n",
    "&emsp;4.5. Model Evaluation & Selection<br>\n",
    "\n",
    "<li><a href=\"#Conclusion\">5. Conclusion</a></li>\n",
    "</ul>"
   ]
  },
  {
   "cell_type": "markdown",
   "metadata": {},
   "source": [
    "<a id='Introduction'></a>\n",
    "## 1. Introduction "
   ]
  },
  {
   "cell_type": "markdown",
   "metadata": {},
   "source": [
    "> This project is derived from the field of Customer Relationship Management (CRM) in Starbucks. One of the main concerns for CRM field is to interact with not only current customers, but also previous and potential customers, so that a company can boost its business relationship with the customers, and eventually expect its continuous sales growth. As mentioned in the provided business case, one of its marketing campaigns is to send out an offer to customers through various channels. An offer can be either just an advertisement for a certain beverage, or a coupon-type offer such as a ‘discount’ or ‘buy 1, get 1 (BOGO)’. Each offer is valid for certain number of days. The validity periods are different from offers.  <br> <br>\n",
    "To maximize a return-on-investment(ROI), we should properly figure out which customers are effectively using their received offers. If a customer feels reluctant to receive advertisement offers, this might be able to result in losing users or lead to decrease customer retention rate in the long run. These types of customers should be removed in advance from the “offering-list”. In this analysis, I classify the customers into 2 groups who use appropriately our offers and who do not based on customers' individual demographic features and their purchasing patterns. \n"
   ]
  },
  {
   "cell_type": "markdown",
   "metadata": {},
   "source": [
    "<a id='Preparation'></a>\n",
    "## 2. Data Preparation/ Cleaning "
   ]
  },
  {
   "cell_type": "code",
   "execution_count": 1,
   "metadata": {},
   "outputs": [],
   "source": [
    "# Import the libraries \n",
    "import numpy as np\n",
    "import pandas as pd\n",
    "import matplotlib.pyplot as plt \n",
    "%matplotlib inline\n",
    "import math\n",
    "import json\n",
    "plt.rc(\"font\", size=14)\n",
    "import seaborn as sns\n",
    "sns.set()\n",
    "sns.set(style=\"whitegrid\", color_codes=True)"
   ]
  },
  {
   "cell_type": "code",
   "execution_count": 2,
   "metadata": {},
   "outputs": [],
   "source": [
    "# Read in the json files\n",
    "portfolio = pd.read_json('portfolio.json', orient='records', lines=True)\n",
    "profile = pd.read_json('profile.json', orient='records', lines=True)\n",
    "transcript = pd.read_json('transcript.json', orient='records', lines=True)"
   ]
  },
  {
   "cell_type": "markdown",
   "metadata": {},
   "source": [
    "### 2. 1. Portfolio Dataframe"
   ]
  },
  {
   "cell_type": "code",
   "execution_count": 3,
   "metadata": {},
   "outputs": [
    {
     "data": {
      "text/html": [
       "<div>\n",
       "<style scoped>\n",
       "    .dataframe tbody tr th:only-of-type {\n",
       "        vertical-align: middle;\n",
       "    }\n",
       "\n",
       "    .dataframe tbody tr th {\n",
       "        vertical-align: top;\n",
       "    }\n",
       "\n",
       "    .dataframe thead th {\n",
       "        text-align: right;\n",
       "    }\n",
       "</style>\n",
       "<table border=\"1\" class=\"dataframe\">\n",
       "  <thead>\n",
       "    <tr style=\"text-align: right;\">\n",
       "      <th></th>\n",
       "      <th>reward</th>\n",
       "      <th>channels</th>\n",
       "      <th>difficulty</th>\n",
       "      <th>duration</th>\n",
       "      <th>offer_type</th>\n",
       "      <th>id</th>\n",
       "    </tr>\n",
       "  </thead>\n",
       "  <tbody>\n",
       "    <tr>\n",
       "      <th>0</th>\n",
       "      <td>10</td>\n",
       "      <td>[email, mobile, social]</td>\n",
       "      <td>10</td>\n",
       "      <td>7</td>\n",
       "      <td>bogo</td>\n",
       "      <td>ae264e3637204a6fb9bb56bc8210ddfd</td>\n",
       "    </tr>\n",
       "    <tr>\n",
       "      <th>1</th>\n",
       "      <td>10</td>\n",
       "      <td>[web, email, mobile, social]</td>\n",
       "      <td>10</td>\n",
       "      <td>5</td>\n",
       "      <td>bogo</td>\n",
       "      <td>4d5c57ea9a6940dd891ad53e9dbe8da0</td>\n",
       "    </tr>\n",
       "    <tr>\n",
       "      <th>2</th>\n",
       "      <td>0</td>\n",
       "      <td>[web, email, mobile]</td>\n",
       "      <td>0</td>\n",
       "      <td>4</td>\n",
       "      <td>informational</td>\n",
       "      <td>3f207df678b143eea3cee63160fa8bed</td>\n",
       "    </tr>\n",
       "    <tr>\n",
       "      <th>3</th>\n",
       "      <td>5</td>\n",
       "      <td>[web, email, mobile]</td>\n",
       "      <td>5</td>\n",
       "      <td>7</td>\n",
       "      <td>bogo</td>\n",
       "      <td>9b98b8c7a33c4b65b9aebfe6a799e6d9</td>\n",
       "    </tr>\n",
       "    <tr>\n",
       "      <th>4</th>\n",
       "      <td>5</td>\n",
       "      <td>[web, email]</td>\n",
       "      <td>20</td>\n",
       "      <td>10</td>\n",
       "      <td>discount</td>\n",
       "      <td>0b1e1539f2cc45b7b9fa7c272da2e1d7</td>\n",
       "    </tr>\n",
       "    <tr>\n",
       "      <th>5</th>\n",
       "      <td>3</td>\n",
       "      <td>[web, email, mobile, social]</td>\n",
       "      <td>7</td>\n",
       "      <td>7</td>\n",
       "      <td>discount</td>\n",
       "      <td>2298d6c36e964ae4a3e7e9706d1fb8c2</td>\n",
       "    </tr>\n",
       "    <tr>\n",
       "      <th>6</th>\n",
       "      <td>2</td>\n",
       "      <td>[web, email, mobile, social]</td>\n",
       "      <td>10</td>\n",
       "      <td>10</td>\n",
       "      <td>discount</td>\n",
       "      <td>fafdcd668e3743c1bb461111dcafc2a4</td>\n",
       "    </tr>\n",
       "    <tr>\n",
       "      <th>7</th>\n",
       "      <td>0</td>\n",
       "      <td>[email, mobile, social]</td>\n",
       "      <td>0</td>\n",
       "      <td>3</td>\n",
       "      <td>informational</td>\n",
       "      <td>5a8bc65990b245e5a138643cd4eb9837</td>\n",
       "    </tr>\n",
       "    <tr>\n",
       "      <th>8</th>\n",
       "      <td>5</td>\n",
       "      <td>[web, email, mobile, social]</td>\n",
       "      <td>5</td>\n",
       "      <td>5</td>\n",
       "      <td>bogo</td>\n",
       "      <td>f19421c1d4aa40978ebb69ca19b0e20d</td>\n",
       "    </tr>\n",
       "    <tr>\n",
       "      <th>9</th>\n",
       "      <td>2</td>\n",
       "      <td>[web, email, mobile]</td>\n",
       "      <td>10</td>\n",
       "      <td>7</td>\n",
       "      <td>discount</td>\n",
       "      <td>2906b810c7d4411798c6938adc9daaa5</td>\n",
       "    </tr>\n",
       "  </tbody>\n",
       "</table>\n",
       "</div>"
      ],
      "text/plain": [
       "   reward                      channels  difficulty  duration     offer_type  \\\n",
       "0      10       [email, mobile, social]          10         7           bogo   \n",
       "1      10  [web, email, mobile, social]          10         5           bogo   \n",
       "2       0          [web, email, mobile]           0         4  informational   \n",
       "3       5          [web, email, mobile]           5         7           bogo   \n",
       "4       5                  [web, email]          20        10       discount   \n",
       "5       3  [web, email, mobile, social]           7         7       discount   \n",
       "6       2  [web, email, mobile, social]          10        10       discount   \n",
       "7       0       [email, mobile, social]           0         3  informational   \n",
       "8       5  [web, email, mobile, social]           5         5           bogo   \n",
       "9       2          [web, email, mobile]          10         7       discount   \n",
       "\n",
       "                                 id  \n",
       "0  ae264e3637204a6fb9bb56bc8210ddfd  \n",
       "1  4d5c57ea9a6940dd891ad53e9dbe8da0  \n",
       "2  3f207df678b143eea3cee63160fa8bed  \n",
       "3  9b98b8c7a33c4b65b9aebfe6a799e6d9  \n",
       "4  0b1e1539f2cc45b7b9fa7c272da2e1d7  \n",
       "5  2298d6c36e964ae4a3e7e9706d1fb8c2  \n",
       "6  fafdcd668e3743c1bb461111dcafc2a4  \n",
       "7  5a8bc65990b245e5a138643cd4eb9837  \n",
       "8  f19421c1d4aa40978ebb69ca19b0e20d  \n",
       "9  2906b810c7d4411798c6938adc9daaa5  "
      ]
     },
     "execution_count": 3,
     "metadata": {},
     "output_type": "execute_result"
    }
   ],
   "source": [
    "portfolio.head(10) # Glance at the first dataset(1)"
   ]
  },
  {
   "cell_type": "code",
   "execution_count": 4,
   "metadata": {
    "scrolled": true
   },
   "outputs": [
    {
     "name": "stdout",
     "output_type": "stream",
     "text": [
      "<class 'pandas.core.frame.DataFrame'>\n",
      "RangeIndex: 10 entries, 0 to 9\n",
      "Data columns (total 6 columns):\n",
      " #   Column      Non-Null Count  Dtype \n",
      "---  ------      --------------  ----- \n",
      " 0   reward      10 non-null     int64 \n",
      " 1   channels    10 non-null     object\n",
      " 2   difficulty  10 non-null     int64 \n",
      " 3   duration    10 non-null     int64 \n",
      " 4   offer_type  10 non-null     object\n",
      " 5   id          10 non-null     object\n",
      "dtypes: int64(3), object(3)\n",
      "memory usage: 608.0+ bytes\n"
     ]
    }
   ],
   "source": [
    "portfolio.info() # Glance at the first dataset(2)"
   ]
  },
  {
   "cell_type": "markdown",
   "metadata": {},
   "source": [
    "Assessment of **Portfolio Dataframe**\n",
    "- Dataframe \"portfolio\" contains all offers information. \n",
    "- It has no missing values nor duplicates. \n",
    "- The datatype of each column is correct. \n",
    "- To avoid a confusion, I will change the 'id' column name into 'offer_id'.\n",
    "\n",
    "Cleaning **Portfolio Dataframe**"
   ]
  },
  {
   "cell_type": "code",
   "execution_count": 5,
   "metadata": {},
   "outputs": [
    {
     "data": {
      "text/html": [
       "<div>\n",
       "<style scoped>\n",
       "    .dataframe tbody tr th:only-of-type {\n",
       "        vertical-align: middle;\n",
       "    }\n",
       "\n",
       "    .dataframe tbody tr th {\n",
       "        vertical-align: top;\n",
       "    }\n",
       "\n",
       "    .dataframe thead th {\n",
       "        text-align: right;\n",
       "    }\n",
       "</style>\n",
       "<table border=\"1\" class=\"dataframe\">\n",
       "  <thead>\n",
       "    <tr style=\"text-align: right;\">\n",
       "      <th></th>\n",
       "      <th>reward</th>\n",
       "      <th>channels</th>\n",
       "      <th>difficulty</th>\n",
       "      <th>duration</th>\n",
       "      <th>offer_type</th>\n",
       "      <th>offer_id</th>\n",
       "    </tr>\n",
       "  </thead>\n",
       "  <tbody>\n",
       "    <tr>\n",
       "      <th>0</th>\n",
       "      <td>10</td>\n",
       "      <td>[email, mobile, social]</td>\n",
       "      <td>10</td>\n",
       "      <td>7</td>\n",
       "      <td>bogo</td>\n",
       "      <td>ae264e3637204a6fb9bb56bc8210ddfd</td>\n",
       "    </tr>\n",
       "    <tr>\n",
       "      <th>1</th>\n",
       "      <td>10</td>\n",
       "      <td>[web, email, mobile, social]</td>\n",
       "      <td>10</td>\n",
       "      <td>5</td>\n",
       "      <td>bogo</td>\n",
       "      <td>4d5c57ea9a6940dd891ad53e9dbe8da0</td>\n",
       "    </tr>\n",
       "    <tr>\n",
       "      <th>2</th>\n",
       "      <td>0</td>\n",
       "      <td>[web, email, mobile]</td>\n",
       "      <td>0</td>\n",
       "      <td>4</td>\n",
       "      <td>informational</td>\n",
       "      <td>3f207df678b143eea3cee63160fa8bed</td>\n",
       "    </tr>\n",
       "    <tr>\n",
       "      <th>3</th>\n",
       "      <td>5</td>\n",
       "      <td>[web, email, mobile]</td>\n",
       "      <td>5</td>\n",
       "      <td>7</td>\n",
       "      <td>bogo</td>\n",
       "      <td>9b98b8c7a33c4b65b9aebfe6a799e6d9</td>\n",
       "    </tr>\n",
       "    <tr>\n",
       "      <th>4</th>\n",
       "      <td>5</td>\n",
       "      <td>[web, email]</td>\n",
       "      <td>20</td>\n",
       "      <td>10</td>\n",
       "      <td>discount</td>\n",
       "      <td>0b1e1539f2cc45b7b9fa7c272da2e1d7</td>\n",
       "    </tr>\n",
       "  </tbody>\n",
       "</table>\n",
       "</div>"
      ],
      "text/plain": [
       "   reward                      channels  difficulty  duration     offer_type  \\\n",
       "0      10       [email, mobile, social]          10         7           bogo   \n",
       "1      10  [web, email, mobile, social]          10         5           bogo   \n",
       "2       0          [web, email, mobile]           0         4  informational   \n",
       "3       5          [web, email, mobile]           5         7           bogo   \n",
       "4       5                  [web, email]          20        10       discount   \n",
       "\n",
       "                           offer_id  \n",
       "0  ae264e3637204a6fb9bb56bc8210ddfd  \n",
       "1  4d5c57ea9a6940dd891ad53e9dbe8da0  \n",
       "2  3f207df678b143eea3cee63160fa8bed  \n",
       "3  9b98b8c7a33c4b65b9aebfe6a799e6d9  \n",
       "4  0b1e1539f2cc45b7b9fa7c272da2e1d7  "
      ]
     },
     "execution_count": 5,
     "metadata": {},
     "output_type": "execute_result"
    }
   ],
   "source": [
    "portfolio= portfolio.rename(columns={'id': 'offer_id'})\n",
    "portfolio.head()"
   ]
  },
  {
   "cell_type": "markdown",
   "metadata": {},
   "source": [
    "### 2. 2. Profile Dataframe"
   ]
  },
  {
   "cell_type": "code",
   "execution_count": 6,
   "metadata": {},
   "outputs": [
    {
     "name": "stdout",
     "output_type": "stream",
     "text": [
      "(17000, 5)\n"
     ]
    },
    {
     "data": {
      "text/html": [
       "<div>\n",
       "<style scoped>\n",
       "    .dataframe tbody tr th:only-of-type {\n",
       "        vertical-align: middle;\n",
       "    }\n",
       "\n",
       "    .dataframe tbody tr th {\n",
       "        vertical-align: top;\n",
       "    }\n",
       "\n",
       "    .dataframe thead th {\n",
       "        text-align: right;\n",
       "    }\n",
       "</style>\n",
       "<table border=\"1\" class=\"dataframe\">\n",
       "  <thead>\n",
       "    <tr style=\"text-align: right;\">\n",
       "      <th></th>\n",
       "      <th>gender</th>\n",
       "      <th>age</th>\n",
       "      <th>id</th>\n",
       "      <th>became_member_on</th>\n",
       "      <th>income</th>\n",
       "    </tr>\n",
       "  </thead>\n",
       "  <tbody>\n",
       "    <tr>\n",
       "      <th>0</th>\n",
       "      <td>None</td>\n",
       "      <td>118</td>\n",
       "      <td>68be06ca386d4c31939f3a4f0e3dd783</td>\n",
       "      <td>20170212</td>\n",
       "      <td>NaN</td>\n",
       "    </tr>\n",
       "    <tr>\n",
       "      <th>1</th>\n",
       "      <td>F</td>\n",
       "      <td>55</td>\n",
       "      <td>0610b486422d4921ae7d2bf64640c50b</td>\n",
       "      <td>20170715</td>\n",
       "      <td>112000.0</td>\n",
       "    </tr>\n",
       "    <tr>\n",
       "      <th>2</th>\n",
       "      <td>None</td>\n",
       "      <td>118</td>\n",
       "      <td>38fe809add3b4fcf9315a9694bb96ff5</td>\n",
       "      <td>20180712</td>\n",
       "      <td>NaN</td>\n",
       "    </tr>\n",
       "    <tr>\n",
       "      <th>3</th>\n",
       "      <td>F</td>\n",
       "      <td>75</td>\n",
       "      <td>78afa995795e4d85b5d9ceeca43f5fef</td>\n",
       "      <td>20170509</td>\n",
       "      <td>100000.0</td>\n",
       "    </tr>\n",
       "    <tr>\n",
       "      <th>4</th>\n",
       "      <td>None</td>\n",
       "      <td>118</td>\n",
       "      <td>a03223e636434f42ac4c3df47e8bac43</td>\n",
       "      <td>20170804</td>\n",
       "      <td>NaN</td>\n",
       "    </tr>\n",
       "  </tbody>\n",
       "</table>\n",
       "</div>"
      ],
      "text/plain": [
       "  gender  age                                id  became_member_on    income\n",
       "0   None  118  68be06ca386d4c31939f3a4f0e3dd783          20170212       NaN\n",
       "1      F   55  0610b486422d4921ae7d2bf64640c50b          20170715  112000.0\n",
       "2   None  118  38fe809add3b4fcf9315a9694bb96ff5          20180712       NaN\n",
       "3      F   75  78afa995795e4d85b5d9ceeca43f5fef          20170509  100000.0\n",
       "4   None  118  a03223e636434f42ac4c3df47e8bac43          20170804       NaN"
      ]
     },
     "execution_count": 6,
     "metadata": {},
     "output_type": "execute_result"
    }
   ],
   "source": [
    "print(profile.shape)\n",
    "profile.head() # Glance at the second dataset(1)"
   ]
  },
  {
   "cell_type": "code",
   "execution_count": 7,
   "metadata": {},
   "outputs": [
    {
     "name": "stdout",
     "output_type": "stream",
     "text": [
      "<class 'pandas.core.frame.DataFrame'>\n",
      "RangeIndex: 17000 entries, 0 to 16999\n",
      "Data columns (total 5 columns):\n",
      " #   Column            Non-Null Count  Dtype  \n",
      "---  ------            --------------  -----  \n",
      " 0   gender            14825 non-null  object \n",
      " 1   age               17000 non-null  int64  \n",
      " 2   id                17000 non-null  object \n",
      " 3   became_member_on  17000 non-null  int64  \n",
      " 4   income            14825 non-null  float64\n",
      "dtypes: float64(1), int64(2), object(2)\n",
      "memory usage: 664.2+ KB\n"
     ]
    }
   ],
   "source": [
    "profile.info() # Glance at the second dataset(2)"
   ]
  },
  {
   "cell_type": "code",
   "execution_count": 8,
   "metadata": {
    "scrolled": true
   },
   "outputs": [
    {
     "data": {
      "text/plain": [
       "0"
      ]
     },
     "execution_count": 8,
     "metadata": {},
     "output_type": "execute_result"
    }
   ],
   "source": [
    "sum(profile.duplicated()) # No Duplicates in the Profile Dataset"
   ]
  },
  {
   "cell_type": "code",
   "execution_count": 9,
   "metadata": {},
   "outputs": [
    {
     "data": {
      "text/html": [
       "<div>\n",
       "<style scoped>\n",
       "    .dataframe tbody tr th:only-of-type {\n",
       "        vertical-align: middle;\n",
       "    }\n",
       "\n",
       "    .dataframe tbody tr th {\n",
       "        vertical-align: top;\n",
       "    }\n",
       "\n",
       "    .dataframe thead th {\n",
       "        text-align: right;\n",
       "    }\n",
       "</style>\n",
       "<table border=\"1\" class=\"dataframe\">\n",
       "  <thead>\n",
       "    <tr style=\"text-align: right;\">\n",
       "      <th></th>\n",
       "      <th>age</th>\n",
       "      <th>became_member_on</th>\n",
       "      <th>income</th>\n",
       "    </tr>\n",
       "  </thead>\n",
       "  <tbody>\n",
       "    <tr>\n",
       "      <th>count</th>\n",
       "      <td>14825.00</td>\n",
       "      <td>14825.00</td>\n",
       "      <td>14825.00</td>\n",
       "    </tr>\n",
       "    <tr>\n",
       "      <th>mean</th>\n",
       "      <td>54.39</td>\n",
       "      <td>20166887.15</td>\n",
       "      <td>65404.99</td>\n",
       "    </tr>\n",
       "    <tr>\n",
       "      <th>std</th>\n",
       "      <td>17.38</td>\n",
       "      <td>11885.65</td>\n",
       "      <td>21598.30</td>\n",
       "    </tr>\n",
       "    <tr>\n",
       "      <th>min</th>\n",
       "      <td>18.00</td>\n",
       "      <td>20130729.00</td>\n",
       "      <td>30000.00</td>\n",
       "    </tr>\n",
       "    <tr>\n",
       "      <th>25%</th>\n",
       "      <td>42.00</td>\n",
       "      <td>20160520.00</td>\n",
       "      <td>49000.00</td>\n",
       "    </tr>\n",
       "    <tr>\n",
       "      <th>50%</th>\n",
       "      <td>55.00</td>\n",
       "      <td>20170802.00</td>\n",
       "      <td>64000.00</td>\n",
       "    </tr>\n",
       "    <tr>\n",
       "      <th>75%</th>\n",
       "      <td>66.00</td>\n",
       "      <td>20171230.00</td>\n",
       "      <td>80000.00</td>\n",
       "    </tr>\n",
       "    <tr>\n",
       "      <th>max</th>\n",
       "      <td>101.00</td>\n",
       "      <td>20180726.00</td>\n",
       "      <td>120000.00</td>\n",
       "    </tr>\n",
       "  </tbody>\n",
       "</table>\n",
       "</div>"
      ],
      "text/plain": [
       "           age  became_member_on    income\n",
       "count 14825.00          14825.00  14825.00\n",
       "mean     54.39       20166887.15  65404.99\n",
       "std      17.38          11885.65  21598.30\n",
       "min      18.00       20130729.00  30000.00\n",
       "25%      42.00       20160520.00  49000.00\n",
       "50%      55.00       20170802.00  64000.00\n",
       "75%      66.00       20171230.00  80000.00\n",
       "max     101.00       20180726.00 120000.00"
      ]
     },
     "execution_count": 9,
     "metadata": {},
     "output_type": "execute_result"
    }
   ],
   "source": [
    "# Turn off scientific notation in pandas \n",
    "pd.set_option('display.float_format', lambda x: '%.2f' % x)\n",
    "profile.query('age != 118').describe() # Descriptive statistics of the dataset with non-missing values."
   ]
  },
  {
   "cell_type": "markdown",
   "metadata": {},
   "source": [
    "Assessment of **Profile Dataframe**\n",
    "- Profile Dataframe contains customer information. \n",
    "- There are 2,175 missing datapoints. These missing values are represented as 'None', 'NaN in 'gender', 'income' column, respectively. \n",
    "- All the missing datapoints has 118 age value equally. \n",
    "- These missing values are replaced with each median value.\n",
    "- The missing values in 'gender' column will be replaced with 'O', meaning 'Others'. [Reference - Gender Classification](https://de.wikipedia.org/wiki/Datenstandards_zur_Beschreibung_des_Geschlechts)\n",
    "- The datatype of the column \"became_member_on\" should be changed to datetime."
   ]
  },
  {
   "cell_type": "markdown",
   "metadata": {},
   "source": [
    "Cleaning **Profile Dataframe**"
   ]
  },
  {
   "cell_type": "code",
   "execution_count": 10,
   "metadata": {},
   "outputs": [],
   "source": [
    "profile_wo_mv = profile.query('age != 118') # Profile Dataframe without missing values \n",
    "median_age = profile_wo_mv.age.median() # The median value of ages \n",
    "median_income = profile_wo_mv.income.median() # The median value of incomes\n",
    "\n",
    "# Replace the missing values in gender column with U (Unknown), in income column with its median value. \n",
    "profile.fillna({'gender' : 'O', 'income':median_income }, inplace= True) \n",
    "# Replace the missing values (118) in age column with its median value. \n",
    "profile_cleaned = profile.replace({'age':118}, median_age)"
   ]
  },
  {
   "cell_type": "code",
   "execution_count": 11,
   "metadata": {},
   "outputs": [
    {
     "data": {
      "text/plain": [
       "Text(0.5, 0, 'Gender')"
      ]
     },
     "execution_count": 11,
     "metadata": {},
     "output_type": "execute_result"
    },
    {
     "data": {
      "image/png": "[encoded data removed]",
      "text/plain": [
       "<Figure size 1080x216 with 3 Axes>"
      ]
     },
     "metadata": {},
     "output_type": "display_data"
    }
   ],
   "source": [
    "# Visualisation of each feature after cleaning the dataset. \n",
    "plt.figure(figsize=[15,3]) \n",
    "plt.subplots_adjust(wspace = 0.3 , hspace= 0.5)\n",
    "base_color =sns.color_palette()[0]\n",
    "\n",
    "plt.subplot(1, 3, 1)\n",
    "profile_cleaned.age.hist()\n",
    "plt.title('Distribution of Age (Cleaned)')\n",
    "plt.ylabel('No. of Customers')\n",
    "plt.xlabel('Age')\n",
    "\n",
    "plt.subplot(1, 3, 2)\n",
    "profile_cleaned.income.hist()\n",
    "plt.title('Distribution of Income (Cleaned)')\n",
    "plt.ylabel('No. of Customers')\n",
    "plt.xlabel('Income')\n",
    "\n",
    "plt.subplot(1, 3, 3)\n",
    "sns.countplot(data = profile_cleaned, x='gender', color = base_color)\n",
    "plt.title('Distribution of Gender (Cleaned)')\n",
    "plt.ylabel('No. of Customers')\n",
    "plt.xlabel('Gender')"
   ]
  },
  {
   "cell_type": "code",
   "execution_count": 12,
   "metadata": {},
   "outputs": [],
   "source": [
    "# Datatype of the column : 'became_member_on' is changed to 'datetime'\n",
    "profile_cleaned['became_member_on'] = pd.to_datetime(profile_cleaned['became_member_on'], format = '%Y%m%d')"
   ]
  },
  {
   "cell_type": "code",
   "execution_count": 13,
   "metadata": {
    "scrolled": true
   },
   "outputs": [
    {
     "data": {
      "text/plain": [
       "Timestamp('2018-07-26 00:00:00')"
      ]
     },
     "execution_count": 13,
     "metadata": {},
     "output_type": "execute_result"
    }
   ],
   "source": [
    "# The latest date of 'became_member_on'\n",
    "profile_cleaned['became_member_on'].max()"
   ]
  },
  {
   "cell_type": "code",
   "execution_count": 14,
   "metadata": {},
   "outputs": [],
   "source": [
    "# Calcuate the number of days as a member  \n",
    "def calculate_days(dates):\n",
    "    last_record = pd.Timestamp('2018-07-31')\n",
    "    return last_record - dates"
   ]
  },
  {
   "cell_type": "code",
   "execution_count": 15,
   "metadata": {},
   "outputs": [],
   "source": [
    "# Calculate the number of days as member for each customer. \n",
    "profile_cleaned['days_as_member'] =  profile_cleaned['became_member_on'].apply(calculate_days).dt.days\n",
    "\n",
    "# To avoid confusion, I rename 'id' column with 'customer_id'. \n",
    "profile_cleaned= profile_cleaned.rename(columns={'id': 'customer_id'})"
   ]
  },
  {
   "cell_type": "code",
   "execution_count": 16,
   "metadata": {
    "scrolled": true
   },
   "outputs": [
    {
     "data": {
      "text/html": [
       "<div>\n",
       "<style scoped>\n",
       "    .dataframe tbody tr th:only-of-type {\n",
       "        vertical-align: middle;\n",
       "    }\n",
       "\n",
       "    .dataframe tbody tr th {\n",
       "        vertical-align: top;\n",
       "    }\n",
       "\n",
       "    .dataframe thead th {\n",
       "        text-align: right;\n",
       "    }\n",
       "</style>\n",
       "<table border=\"1\" class=\"dataframe\">\n",
       "  <thead>\n",
       "    <tr style=\"text-align: right;\">\n",
       "      <th></th>\n",
       "      <th>gender</th>\n",
       "      <th>age</th>\n",
       "      <th>customer_id</th>\n",
       "      <th>became_member_on</th>\n",
       "      <th>income</th>\n",
       "      <th>days_as_member</th>\n",
       "    </tr>\n",
       "  </thead>\n",
       "  <tbody>\n",
       "    <tr>\n",
       "      <th>0</th>\n",
       "      <td>O</td>\n",
       "      <td>55</td>\n",
       "      <td>68be06ca386d4c31939f3a4f0e3dd783</td>\n",
       "      <td>2017-02-12</td>\n",
       "      <td>64000.00</td>\n",
       "      <td>534</td>\n",
       "    </tr>\n",
       "    <tr>\n",
       "      <th>1</th>\n",
       "      <td>F</td>\n",
       "      <td>55</td>\n",
       "      <td>0610b486422d4921ae7d2bf64640c50b</td>\n",
       "      <td>2017-07-15</td>\n",
       "      <td>112000.00</td>\n",
       "      <td>381</td>\n",
       "    </tr>\n",
       "    <tr>\n",
       "      <th>2</th>\n",
       "      <td>O</td>\n",
       "      <td>55</td>\n",
       "      <td>38fe809add3b4fcf9315a9694bb96ff5</td>\n",
       "      <td>2018-07-12</td>\n",
       "      <td>64000.00</td>\n",
       "      <td>19</td>\n",
       "    </tr>\n",
       "    <tr>\n",
       "      <th>3</th>\n",
       "      <td>F</td>\n",
       "      <td>75</td>\n",
       "      <td>78afa995795e4d85b5d9ceeca43f5fef</td>\n",
       "      <td>2017-05-09</td>\n",
       "      <td>100000.00</td>\n",
       "      <td>448</td>\n",
       "    </tr>\n",
       "    <tr>\n",
       "      <th>4</th>\n",
       "      <td>O</td>\n",
       "      <td>55</td>\n",
       "      <td>a03223e636434f42ac4c3df47e8bac43</td>\n",
       "      <td>2017-08-04</td>\n",
       "      <td>64000.00</td>\n",
       "      <td>361</td>\n",
       "    </tr>\n",
       "  </tbody>\n",
       "</table>\n",
       "</div>"
      ],
      "text/plain": [
       "  gender  age                       customer_id became_member_on    income  \\\n",
       "0      O   55  68be06ca386d4c31939f3a4f0e3dd783       2017-02-12  64000.00   \n",
       "1      F   55  0610b486422d4921ae7d2bf64640c50b       2017-07-15 112000.00   \n",
       "2      O   55  38fe809add3b4fcf9315a9694bb96ff5       2018-07-12  64000.00   \n",
       "3      F   75  78afa995795e4d85b5d9ceeca43f5fef       2017-05-09 100000.00   \n",
       "4      O   55  a03223e636434f42ac4c3df47e8bac43       2017-08-04  64000.00   \n",
       "\n",
       "   days_as_member  \n",
       "0             534  \n",
       "1             381  \n",
       "2              19  \n",
       "3             448  \n",
       "4             361  "
      ]
     },
     "execution_count": 16,
     "metadata": {},
     "output_type": "execute_result"
    }
   ],
   "source": [
    "profile_cleaned.head()"
   ]
  },
  {
   "cell_type": "markdown",
   "metadata": {},
   "source": [
    "### 2. 3. Transcript Dataframe "
   ]
  },
  {
   "cell_type": "code",
   "execution_count": 17,
   "metadata": {},
   "outputs": [
    {
     "data": {
      "text/html": [
       "<div>\n",
       "<style scoped>\n",
       "    .dataframe tbody tr th:only-of-type {\n",
       "        vertical-align: middle;\n",
       "    }\n",
       "\n",
       "    .dataframe tbody tr th {\n",
       "        vertical-align: top;\n",
       "    }\n",
       "\n",
       "    .dataframe thead th {\n",
       "        text-align: right;\n",
       "    }\n",
       "</style>\n",
       "<table border=\"1\" class=\"dataframe\">\n",
       "  <thead>\n",
       "    <tr style=\"text-align: right;\">\n",
       "      <th></th>\n",
       "      <th>person</th>\n",
       "      <th>event</th>\n",
       "      <th>value</th>\n",
       "      <th>time</th>\n",
       "    </tr>\n",
       "  </thead>\n",
       "  <tbody>\n",
       "    <tr>\n",
       "      <th>0</th>\n",
       "      <td>78afa995795e4d85b5d9ceeca43f5fef</td>\n",
       "      <td>offer received</td>\n",
       "      <td>{'offer id': '9b98b8c7a33c4b65b9aebfe6a799e6d9'}</td>\n",
       "      <td>0</td>\n",
       "    </tr>\n",
       "    <tr>\n",
       "      <th>1</th>\n",
       "      <td>a03223e636434f42ac4c3df47e8bac43</td>\n",
       "      <td>offer received</td>\n",
       "      <td>{'offer id': '0b1e1539f2cc45b7b9fa7c272da2e1d7'}</td>\n",
       "      <td>0</td>\n",
       "    </tr>\n",
       "    <tr>\n",
       "      <th>2</th>\n",
       "      <td>e2127556f4f64592b11af22de27a7932</td>\n",
       "      <td>offer received</td>\n",
       "      <td>{'offer id': '2906b810c7d4411798c6938adc9daaa5'}</td>\n",
       "      <td>0</td>\n",
       "    </tr>\n",
       "    <tr>\n",
       "      <th>3</th>\n",
       "      <td>8ec6ce2a7e7949b1bf142def7d0e0586</td>\n",
       "      <td>offer received</td>\n",
       "      <td>{'offer id': 'fafdcd668e3743c1bb461111dcafc2a4'}</td>\n",
       "      <td>0</td>\n",
       "    </tr>\n",
       "    <tr>\n",
       "      <th>4</th>\n",
       "      <td>68617ca6246f4fbc85e91a2a49552598</td>\n",
       "      <td>offer received</td>\n",
       "      <td>{'offer id': '4d5c57ea9a6940dd891ad53e9dbe8da0'}</td>\n",
       "      <td>0</td>\n",
       "    </tr>\n",
       "    <tr>\n",
       "      <th>...</th>\n",
       "      <td>...</td>\n",
       "      <td>...</td>\n",
       "      <td>...</td>\n",
       "      <td>...</td>\n",
       "    </tr>\n",
       "    <tr>\n",
       "      <th>306529</th>\n",
       "      <td>b3a1272bc9904337b331bf348c3e8c17</td>\n",
       "      <td>transaction</td>\n",
       "      <td>{'amount': 1.5899999999999999}</td>\n",
       "      <td>714</td>\n",
       "    </tr>\n",
       "    <tr>\n",
       "      <th>306530</th>\n",
       "      <td>68213b08d99a4ae1b0dcb72aebd9aa35</td>\n",
       "      <td>transaction</td>\n",
       "      <td>{'amount': 9.53}</td>\n",
       "      <td>714</td>\n",
       "    </tr>\n",
       "    <tr>\n",
       "      <th>306531</th>\n",
       "      <td>a00058cf10334a308c68e7631c529907</td>\n",
       "      <td>transaction</td>\n",
       "      <td>{'amount': 3.61}</td>\n",
       "      <td>714</td>\n",
       "    </tr>\n",
       "    <tr>\n",
       "      <th>306532</th>\n",
       "      <td>76ddbd6576844afe811f1a3c0fbb5bec</td>\n",
       "      <td>transaction</td>\n",
       "      <td>{'amount': 3.5300000000000002}</td>\n",
       "      <td>714</td>\n",
       "    </tr>\n",
       "    <tr>\n",
       "      <th>306533</th>\n",
       "      <td>c02b10e8752c4d8e9b73f918558531f7</td>\n",
       "      <td>transaction</td>\n",
       "      <td>{'amount': 4.05}</td>\n",
       "      <td>714</td>\n",
       "    </tr>\n",
       "  </tbody>\n",
       "</table>\n",
       "<p>306534 rows × 4 columns</p>\n",
       "</div>"
      ],
      "text/plain": [
       "                                  person           event  \\\n",
       "0       78afa995795e4d85b5d9ceeca43f5fef  offer received   \n",
       "1       a03223e636434f42ac4c3df47e8bac43  offer received   \n",
       "2       e2127556f4f64592b11af22de27a7932  offer received   \n",
       "3       8ec6ce2a7e7949b1bf142def7d0e0586  offer received   \n",
       "4       68617ca6246f4fbc85e91a2a49552598  offer received   \n",
       "...                                  ...             ...   \n",
       "306529  b3a1272bc9904337b331bf348c3e8c17     transaction   \n",
       "306530  68213b08d99a4ae1b0dcb72aebd9aa35     transaction   \n",
       "306531  a00058cf10334a308c68e7631c529907     transaction   \n",
       "306532  76ddbd6576844afe811f1a3c0fbb5bec     transaction   \n",
       "306533  c02b10e8752c4d8e9b73f918558531f7     transaction   \n",
       "\n",
       "                                                   value  time  \n",
       "0       {'offer id': '9b98b8c7a33c4b65b9aebfe6a799e6d9'}     0  \n",
       "1       {'offer id': '0b1e1539f2cc45b7b9fa7c272da2e1d7'}     0  \n",
       "2       {'offer id': '2906b810c7d4411798c6938adc9daaa5'}     0  \n",
       "3       {'offer id': 'fafdcd668e3743c1bb461111dcafc2a4'}     0  \n",
       "4       {'offer id': '4d5c57ea9a6940dd891ad53e9dbe8da0'}     0  \n",
       "...                                                  ...   ...  \n",
       "306529                    {'amount': 1.5899999999999999}   714  \n",
       "306530                                  {'amount': 9.53}   714  \n",
       "306531                                  {'amount': 3.61}   714  \n",
       "306532                    {'amount': 3.5300000000000002}   714  \n",
       "306533                                  {'amount': 4.05}   714  \n",
       "\n",
       "[306534 rows x 4 columns]"
      ]
     },
     "execution_count": 17,
     "metadata": {},
     "output_type": "execute_result"
    }
   ],
   "source": [
    "transcript # Glance at the third dataset(1)"
   ]
  },
  {
   "cell_type": "code",
   "execution_count": 18,
   "metadata": {
    "scrolled": true
   },
   "outputs": [
    {
     "data": {
      "text/plain": [
       "120"
      ]
     },
     "execution_count": 18,
     "metadata": {},
     "output_type": "execute_result"
    }
   ],
   "source": [
    "# Total Days of testing\n",
    "transcript.time.nunique()"
   ]
  },
  {
   "cell_type": "code",
   "execution_count": 19,
   "metadata": {
    "scrolled": false
   },
   "outputs": [
    {
     "name": "stdout",
     "output_type": "stream",
     "text": [
      "<class 'pandas.core.frame.DataFrame'>\n",
      "RangeIndex: 306534 entries, 0 to 306533\n",
      "Data columns (total 4 columns):\n",
      " #   Column  Non-Null Count   Dtype \n",
      "---  ------  --------------   ----- \n",
      " 0   person  306534 non-null  object\n",
      " 1   event   306534 non-null  object\n",
      " 2   value   306534 non-null  object\n",
      " 3   time    306534 non-null  int64 \n",
      "dtypes: int64(1), object(3)\n",
      "memory usage: 9.4+ MB\n"
     ]
    }
   ],
   "source": [
    "transcript.info() # Glance at the third dataset(2) "
   ]
  },
  {
   "cell_type": "markdown",
   "metadata": {},
   "source": [
    "Assessment of **Transcript Dataframe**\n",
    "- Semi-structured JSON data should be normalized into a flat table.\n",
    "- Note that the keys in 'value' column: 'offer_id' and 'offer id' are identical. They should be unified. \n",
    "- The column 'person' is equivalent to 'customer_id' column in Profile dataset. To avoid any confusion, I will match the name of the columns.\n",
    "- The numerical values are an arithmetical sequence, starting from 0 to 714 with the interval of 6. This implies that the testing lasted for 6 hours per days for 120 days (about 4 months). Therefore, I generate the new columns: days, months. \n",
    "<br><br>\n",
    "- It is more informative if \"offer_id\" is presented with the name of corresponding offers. The name of offers can be obtain from the Portfolio dataframe.\n",
    "- It is a untidy dataset. It contais more than one information. [Reference- Tidy Data](https://cran.r-project.org/web/packages/tidyr/vignettes/tidy-data.html)\n",
    "- The dataset should be split into 2 different datasets: <br>\n",
    "&emsp; 1. offer_based_transaction with columns (person, time, amount) <br>\n",
    "&emsp; 2. sales_based_transaction with columns (person, time, event, offer_id) <br>\n"
   ]
  },
  {
   "cell_type": "markdown",
   "metadata": {},
   "source": [
    "Cleaning **Transcript Dataframe**"
   ]
  },
  {
   "cell_type": "code",
   "execution_count": 20,
   "metadata": {},
   "outputs": [],
   "source": [
    "# To normalize a JSON column into a flat table.\n",
    "transcript_normalized = pd.json_normalize(transcript.value)\n",
    "# To unify the keys in 'value' column: 'offer_id' &  'offer id' \n",
    "transcript_normalized['offer_id'] = transcript_normalized['offer id'].fillna('') + transcript_normalized['offer_id'].fillna('')\n",
    "transcript_mod = pd.concat([transcript, transcript_normalized], axis = 1)\n",
    "\n",
    "# To drop unnecessary features \n",
    "transcript_mod.drop(['value', 'offer id'], axis =1, inplace = True) "
   ]
  },
  {
   "cell_type": "code",
   "execution_count": 21,
   "metadata": {},
   "outputs": [],
   "source": [
    "# To rename 'person' column with 'customer_id' \n",
    "transcript_mod= transcript_mod.rename(columns={'person': 'customer_id'})\n",
    "\n",
    "# Calcuate the number of days/ months after starting the test\n",
    "## Nth day since testing\n",
    "transcript_mod['days'] = transcript_mod['time']/6 +1 \n",
    "transcript_mod['days'] = transcript_mod['days'].astype(int)\n",
    "## Nth month since testing\n",
    "transcript_mod['months'] = (transcript_mod['days']-1)//30 +1\n",
    "transcript_mod['months'] = transcript_mod['months'].astype(int)"
   ]
  },
  {
   "cell_type": "code",
   "execution_count": 22,
   "metadata": {
    "scrolled": true
   },
   "outputs": [],
   "source": [
    "# \"offer_id\" is presented with the name of corresponding offers\n",
    "transcript_offer_name = transcript_mod.merge(portfolio[['offer_type', 'offer_id']], \n",
    "                                                      left_on = 'offer_id', right_on = 'offer_id', how ='left' )"
   ]
  },
  {
   "cell_type": "code",
   "execution_count": 23,
   "metadata": {},
   "outputs": [
    {
     "data": {
      "text/html": [
       "<div>\n",
       "<style scoped>\n",
       "    .dataframe tbody tr th:only-of-type {\n",
       "        vertical-align: middle;\n",
       "    }\n",
       "\n",
       "    .dataframe tbody tr th {\n",
       "        vertical-align: top;\n",
       "    }\n",
       "\n",
       "    .dataframe thead th {\n",
       "        text-align: right;\n",
       "    }\n",
       "</style>\n",
       "<table border=\"1\" class=\"dataframe\">\n",
       "  <thead>\n",
       "    <tr style=\"text-align: right;\">\n",
       "      <th></th>\n",
       "      <th>customer_id</th>\n",
       "      <th>event</th>\n",
       "      <th>time</th>\n",
       "      <th>amount</th>\n",
       "      <th>offer_id</th>\n",
       "      <th>reward</th>\n",
       "      <th>days</th>\n",
       "      <th>months</th>\n",
       "      <th>offer_type</th>\n",
       "    </tr>\n",
       "  </thead>\n",
       "  <tbody>\n",
       "    <tr>\n",
       "      <th>0</th>\n",
       "      <td>78afa995795e4d85b5d9ceeca43f5fef</td>\n",
       "      <td>offer received</td>\n",
       "      <td>0</td>\n",
       "      <td>nan</td>\n",
       "      <td>9b98b8c7a33c4b65b9aebfe6a799e6d9</td>\n",
       "      <td>nan</td>\n",
       "      <td>1</td>\n",
       "      <td>1</td>\n",
       "      <td>bogo</td>\n",
       "    </tr>\n",
       "    <tr>\n",
       "      <th>1</th>\n",
       "      <td>a03223e636434f42ac4c3df47e8bac43</td>\n",
       "      <td>offer received</td>\n",
       "      <td>0</td>\n",
       "      <td>nan</td>\n",
       "      <td>0b1e1539f2cc45b7b9fa7c272da2e1d7</td>\n",
       "      <td>nan</td>\n",
       "      <td>1</td>\n",
       "      <td>1</td>\n",
       "      <td>discount</td>\n",
       "    </tr>\n",
       "    <tr>\n",
       "      <th>2</th>\n",
       "      <td>e2127556f4f64592b11af22de27a7932</td>\n",
       "      <td>offer received</td>\n",
       "      <td>0</td>\n",
       "      <td>nan</td>\n",
       "      <td>2906b810c7d4411798c6938adc9daaa5</td>\n",
       "      <td>nan</td>\n",
       "      <td>1</td>\n",
       "      <td>1</td>\n",
       "      <td>discount</td>\n",
       "    </tr>\n",
       "    <tr>\n",
       "      <th>3</th>\n",
       "      <td>8ec6ce2a7e7949b1bf142def7d0e0586</td>\n",
       "      <td>offer received</td>\n",
       "      <td>0</td>\n",
       "      <td>nan</td>\n",
       "      <td>fafdcd668e3743c1bb461111dcafc2a4</td>\n",
       "      <td>nan</td>\n",
       "      <td>1</td>\n",
       "      <td>1</td>\n",
       "      <td>discount</td>\n",
       "    </tr>\n",
       "    <tr>\n",
       "      <th>4</th>\n",
       "      <td>68617ca6246f4fbc85e91a2a49552598</td>\n",
       "      <td>offer received</td>\n",
       "      <td>0</td>\n",
       "      <td>nan</td>\n",
       "      <td>4d5c57ea9a6940dd891ad53e9dbe8da0</td>\n",
       "      <td>nan</td>\n",
       "      <td>1</td>\n",
       "      <td>1</td>\n",
       "      <td>bogo</td>\n",
       "    </tr>\n",
       "    <tr>\n",
       "      <th>...</th>\n",
       "      <td>...</td>\n",
       "      <td>...</td>\n",
       "      <td>...</td>\n",
       "      <td>...</td>\n",
       "      <td>...</td>\n",
       "      <td>...</td>\n",
       "      <td>...</td>\n",
       "      <td>...</td>\n",
       "      <td>...</td>\n",
       "    </tr>\n",
       "    <tr>\n",
       "      <th>306529</th>\n",
       "      <td>b3a1272bc9904337b331bf348c3e8c17</td>\n",
       "      <td>transaction</td>\n",
       "      <td>714</td>\n",
       "      <td>1.59</td>\n",
       "      <td></td>\n",
       "      <td>nan</td>\n",
       "      <td>120</td>\n",
       "      <td>4</td>\n",
       "      <td>NaN</td>\n",
       "    </tr>\n",
       "    <tr>\n",
       "      <th>306530</th>\n",
       "      <td>68213b08d99a4ae1b0dcb72aebd9aa35</td>\n",
       "      <td>transaction</td>\n",
       "      <td>714</td>\n",
       "      <td>9.53</td>\n",
       "      <td></td>\n",
       "      <td>nan</td>\n",
       "      <td>120</td>\n",
       "      <td>4</td>\n",
       "      <td>NaN</td>\n",
       "    </tr>\n",
       "    <tr>\n",
       "      <th>306531</th>\n",
       "      <td>a00058cf10334a308c68e7631c529907</td>\n",
       "      <td>transaction</td>\n",
       "      <td>714</td>\n",
       "      <td>3.61</td>\n",
       "      <td></td>\n",
       "      <td>nan</td>\n",
       "      <td>120</td>\n",
       "      <td>4</td>\n",
       "      <td>NaN</td>\n",
       "    </tr>\n",
       "    <tr>\n",
       "      <th>306532</th>\n",
       "      <td>76ddbd6576844afe811f1a3c0fbb5bec</td>\n",
       "      <td>transaction</td>\n",
       "      <td>714</td>\n",
       "      <td>3.53</td>\n",
       "      <td></td>\n",
       "      <td>nan</td>\n",
       "      <td>120</td>\n",
       "      <td>4</td>\n",
       "      <td>NaN</td>\n",
       "    </tr>\n",
       "    <tr>\n",
       "      <th>306533</th>\n",
       "      <td>c02b10e8752c4d8e9b73f918558531f7</td>\n",
       "      <td>transaction</td>\n",
       "      <td>714</td>\n",
       "      <td>4.05</td>\n",
       "      <td></td>\n",
       "      <td>nan</td>\n",
       "      <td>120</td>\n",
       "      <td>4</td>\n",
       "      <td>NaN</td>\n",
       "    </tr>\n",
       "  </tbody>\n",
       "</table>\n",
       "<p>306534 rows × 9 columns</p>\n",
       "</div>"
      ],
      "text/plain": [
       "                             customer_id           event  time  amount  \\\n",
       "0       78afa995795e4d85b5d9ceeca43f5fef  offer received     0     nan   \n",
       "1       a03223e636434f42ac4c3df47e8bac43  offer received     0     nan   \n",
       "2       e2127556f4f64592b11af22de27a7932  offer received     0     nan   \n",
       "3       8ec6ce2a7e7949b1bf142def7d0e0586  offer received     0     nan   \n",
       "4       68617ca6246f4fbc85e91a2a49552598  offer received     0     nan   \n",
       "...                                  ...             ...   ...     ...   \n",
       "306529  b3a1272bc9904337b331bf348c3e8c17     transaction   714    1.59   \n",
       "306530  68213b08d99a4ae1b0dcb72aebd9aa35     transaction   714    9.53   \n",
       "306531  a00058cf10334a308c68e7631c529907     transaction   714    3.61   \n",
       "306532  76ddbd6576844afe811f1a3c0fbb5bec     transaction   714    3.53   \n",
       "306533  c02b10e8752c4d8e9b73f918558531f7     transaction   714    4.05   \n",
       "\n",
       "                                offer_id  reward  days  months offer_type  \n",
       "0       9b98b8c7a33c4b65b9aebfe6a799e6d9     nan     1       1       bogo  \n",
       "1       0b1e1539f2cc45b7b9fa7c272da2e1d7     nan     1       1   discount  \n",
       "2       2906b810c7d4411798c6938adc9daaa5     nan     1       1   discount  \n",
       "3       fafdcd668e3743c1bb461111dcafc2a4     nan     1       1   discount  \n",
       "4       4d5c57ea9a6940dd891ad53e9dbe8da0     nan     1       1       bogo  \n",
       "...                                  ...     ...   ...     ...        ...  \n",
       "306529                                       nan   120       4        NaN  \n",
       "306530                                       nan   120       4        NaN  \n",
       "306531                                       nan   120       4        NaN  \n",
       "306532                                       nan   120       4        NaN  \n",
       "306533                                       nan   120       4        NaN  \n",
       "\n",
       "[306534 rows x 9 columns]"
      ]
     },
     "execution_count": 23,
     "metadata": {},
     "output_type": "execute_result"
    }
   ],
   "source": [
    "transcript_offer_name"
   ]
  },
  {
   "cell_type": "code",
   "execution_count": 24,
   "metadata": {
    "scrolled": true
   },
   "outputs": [
    {
     "name": "stderr",
     "output_type": "stream",
     "text": [
      "/Library/Frameworks/Python.framework/Versions/3.9/lib/python3.9/site-packages/pandas/core/frame.py:4167: SettingWithCopyWarning: \n",
      "A value is trying to be set on a copy of a slice from a DataFrame\n",
      "\n",
      "See the caveats in the documentation: https://pandas.pydata.org/pandas-docs/stable/user_guide/indexing.html#returning-a-view-versus-a-copy\n",
      "  return super().drop(\n"
     ]
    }
   ],
   "source": [
    "# Tidiness of the Dataset - seperate into two datasets: offer_based, and sales_based \n",
    "\n",
    "# Offer_based_transaction: event != \"transaction\"\n",
    "# From offer_based_transaction, we can figure out which offers are provided which customers. \n",
    "offer_based_transaction = transcript_offer_name.query('event != \"transaction\"')\n",
    "offer_based_transaction.drop(['amount'], axis = 1, inplace=True)\n",
    "\n",
    "# sales_based_transaction: event == \"transaction\"\n",
    "# From sales_based_transaction, we can figure out how much customers spent at our stores. \n",
    "sales_based_transaction = transcript_offer_name.query('event == \"transaction\"')\n",
    "sales_based_transaction.drop(['offer_id'], axis = 1, inplace=True)"
   ]
  },
  {
   "cell_type": "code",
   "execution_count": 25,
   "metadata": {},
   "outputs": [],
   "source": [
    "# Make Checkpoints\n",
    "offer_info_df = portfolio.copy()\n",
    "customer_info_df = profile_cleaned.copy()\n",
    "transactions_df = transcript_offer_name.copy()\n",
    "sales_transaction_df = sales_based_transaction.copy()\n",
    "offers_transaction_df = offer_based_transaction.copy()"
   ]
  },
  {
   "cell_type": "markdown",
   "metadata": {},
   "source": [
    "--------------------------------"
   ]
  },
  {
   "cell_type": "markdown",
   "metadata": {},
   "source": [
    "<a id='Exploration'></a>\n",
    "## 3. Data Exploration  \n",
    "- 3.1. Current Business Situations\n",
    "- 3.2. Customer Demographics\n",
    "- 3.3. Characteristics of Starbucks Offers\n",
    "- 3.4. Customer Purchasing Patterns <br>\n",
    "\n",
    "\n",
    "### 3. 1. Current Business Situations\n",
    "\n",
    "#### The Change of traffics during the test period"
   ]
  },
  {
   "cell_type": "code",
   "execution_count": 26,
   "metadata": {
    "scrolled": true
   },
   "outputs": [
    {
     "data": {
      "text/plain": [
       "Text(0.5, 0.98, 'Daily and Monthly Traffics')"
      ]
     },
     "execution_count": 26,
     "metadata": {},
     "output_type": "execute_result"
    },
    {
     "data": {
      "image/png": "[encoded data removed]",
      "text/plain": [
       "<Figure size 1080x288 with 2 Axes>"
      ]
     },
     "metadata": {},
     "output_type": "display_data"
    }
   ],
   "source": [
    "plt.figure(figsize=[15,4]) \n",
    "plt.subplots_adjust(wspace = 0.3 , hspace= 0.5)\n",
    "base_color =sns.color_palette()[0]\n",
    "\n",
    "plt.subplot(1, 2, 1)\n",
    "sales_transaction_df.groupby('days')['customer_id'].count().plot(kind ='line')\n",
    "plt.ylabel('Daily Traffics')\n",
    "\n",
    "plt.subplot(1, 2, 2)\n",
    "sns.countplot(data = sales_transaction_df, x = 'months', color = base_color)\n",
    "plt.ylabel('Monthly Traffics')\n",
    "\n",
    "plt.suptitle('Daily and Monthly Traffics')"
   ]
  },
  {
   "cell_type": "markdown",
   "metadata": {},
   "source": [
    "#### The Sales Trend  Amount during the test period"
   ]
  },
  {
   "cell_type": "code",
   "execution_count": 27,
   "metadata": {},
   "outputs": [
    {
     "data": {
      "text/plain": [
       "Text(0.5, 0.98, 'Daily and Monthly Sales Amount')"
      ]
     },
     "execution_count": 27,
     "metadata": {},
     "output_type": "execute_result"
    },
    {
     "data": {
      "image/png": "[encoded data removed]",
      "text/plain": [
       "<Figure size 1080x288 with 3 Axes>"
      ]
     },
     "metadata": {},
     "output_type": "display_data"
    }
   ],
   "source": [
    "plt.figure(figsize=[15,4]) \n",
    "plt.subplots_adjust(wspace = 0.3 , hspace= 0.5)\n",
    "\n",
    "plt.subplot(1, 3, 1)\n",
    "sales = sales_transaction_df.groupby('days',  as_index= False)['amount'].sum()\n",
    "sales['sales_MA(6)'] = sales.iloc[:,1].rolling(window =6).mean()\n",
    "plt.plot(sales['days'], sales['sales_MA(6)'])\n",
    "plt.xlabel('Testing days')\n",
    "plt.ylabel('sales_MA(6)')\n",
    "\n",
    "plt.subplot(1, 3, 2)\n",
    "sales_transaction_df.groupby('months')['amount'].sum().plot(kind ='bar')\n",
    "plt.ylabel('Total Monthly Average Sales')\n",
    "\n",
    "plt.subplot(1, 3, 3)\n",
    "sns.barplot(data = sales_transaction_df, x = 'months', y= 'amount',color = base_color)\n",
    "plt.ylabel('Monthly Average Sales per each traffic')\n",
    "\n",
    "\n",
    "plt.suptitle('Daily and Monthly Sales Amount')"
   ]
  },
  {
   "cell_type": "code",
   "execution_count": 28,
   "metadata": {},
   "outputs": [
    {
     "data": {
      "text/plain": [
       "F_onewayResult(statistic=0.2517026240434585, pvalue=0.7774763978214865)"
      ]
     },
     "execution_count": 28,
     "metadata": {},
     "output_type": "execute_result"
    }
   ],
   "source": [
    "month_1 = sales_transaction_df.query('months == 1').amount\n",
    "month_2 = sales_transaction_df.query('months == 2').amount\n",
    "month_3 = sales_transaction_df.query('months == 3').amount\n",
    "month_4 = sales_transaction_df.query('months == 4').amount\n",
    "\n",
    "import scipy \n",
    "scipy.stats.f_oneway(month_1, month_2, month_3)"
   ]
  },
  {
   "cell_type": "markdown",
   "metadata": {},
   "source": [
    ">**Comments:** \n",
    ">- The number of traffics varies in each month. It increased until the third month. \n",
    ">- In the fourth month, however, the total number of traffics slightly decreased. Note that the 4th month traffics are still as large as that in the third month. \n",
    ">- The change of sales amounts follows almost identical patterns with the change of traffics. We can understand that more traffics bring better sales performances. \n",
    ">- Interestingly, although the number of traffics and sales amount are different in each month, the average spendings per each transaction are very similar across the months. "
   ]
  },
  {
   "cell_type": "markdown",
   "metadata": {},
   "source": [
    "###  3. 2. Customer Demographics\n",
    "\n",
    "> In this section, I will explore whether there is a significant difference of issued offers on various demographic factors.  "
   ]
  },
  {
   "cell_type": "code",
   "execution_count": 29,
   "metadata": {},
   "outputs": [],
   "source": [
    "# Making a new dataframe by Modifying the dataframe: offers_transaction_df\n",
    "# The new dataframe will indicates the number of offers that each customer received \n",
    "all_offers_infos = pd.concat([offers_transaction_df, pd.get_dummies(offers_transaction_df.offer_type)], axis = 1)\n",
    "all_issued_offers =all_offers_infos.query('event == \"offer received\"')\n",
    "\n",
    "# all_issued_offers per customers\n",
    "issued_offers_per_customer_df  =all_issued_offers.groupby('customer_id', as_index= False)[['bogo','discount', 'informational']].sum()\n",
    "\n",
    "# Dataframe (all_issued_offers per customers) is merged with customer profile\n",
    "customers_offers_merged_profile = issued_offers_per_customer_df.merge(customer_info_df, \n",
    "                                                                      left_on = 'customer_id', right_on= 'customer_id', how='left')"
   ]
  },
  {
   "cell_type": "code",
   "execution_count": 30,
   "metadata": {},
   "outputs": [
    {
     "name": "stdout",
     "output_type": "stream",
     "text": [
      "(16994, 9)\n"
     ]
    },
    {
     "data": {
      "text/html": [
       "<div>\n",
       "<style scoped>\n",
       "    .dataframe tbody tr th:only-of-type {\n",
       "        vertical-align: middle;\n",
       "    }\n",
       "\n",
       "    .dataframe tbody tr th {\n",
       "        vertical-align: top;\n",
       "    }\n",
       "\n",
       "    .dataframe thead th {\n",
       "        text-align: right;\n",
       "    }\n",
       "</style>\n",
       "<table border=\"1\" class=\"dataframe\">\n",
       "  <thead>\n",
       "    <tr style=\"text-align: right;\">\n",
       "      <th></th>\n",
       "      <th>customer_id</th>\n",
       "      <th>bogo</th>\n",
       "      <th>discount</th>\n",
       "      <th>informational</th>\n",
       "      <th>gender</th>\n",
       "      <th>age</th>\n",
       "      <th>became_member_on</th>\n",
       "      <th>income</th>\n",
       "      <th>days_as_member</th>\n",
       "    </tr>\n",
       "  </thead>\n",
       "  <tbody>\n",
       "    <tr>\n",
       "      <th>0</th>\n",
       "      <td>0009655768c64bdeb2e877511632db8f</td>\n",
       "      <td>1</td>\n",
       "      <td>2</td>\n",
       "      <td>2</td>\n",
       "      <td>M</td>\n",
       "      <td>33</td>\n",
       "      <td>2017-04-21</td>\n",
       "      <td>72000.00</td>\n",
       "      <td>466</td>\n",
       "    </tr>\n",
       "    <tr>\n",
       "      <th>1</th>\n",
       "      <td>00116118485d4dfda04fdbaba9a87b5c</td>\n",
       "      <td>2</td>\n",
       "      <td>0</td>\n",
       "      <td>0</td>\n",
       "      <td>O</td>\n",
       "      <td>55</td>\n",
       "      <td>2018-04-25</td>\n",
       "      <td>64000.00</td>\n",
       "      <td>97</td>\n",
       "    </tr>\n",
       "    <tr>\n",
       "      <th>2</th>\n",
       "      <td>0011e0d4e6b944f998e987f904e8c1e5</td>\n",
       "      <td>1</td>\n",
       "      <td>2</td>\n",
       "      <td>2</td>\n",
       "      <td>O</td>\n",
       "      <td>40</td>\n",
       "      <td>2018-01-09</td>\n",
       "      <td>57000.00</td>\n",
       "      <td>203</td>\n",
       "    </tr>\n",
       "    <tr>\n",
       "      <th>3</th>\n",
       "      <td>0020c2b971eb4e9188eac86d93036a77</td>\n",
       "      <td>2</td>\n",
       "      <td>2</td>\n",
       "      <td>1</td>\n",
       "      <td>F</td>\n",
       "      <td>59</td>\n",
       "      <td>2016-03-04</td>\n",
       "      <td>90000.00</td>\n",
       "      <td>879</td>\n",
       "    </tr>\n",
       "    <tr>\n",
       "      <th>4</th>\n",
       "      <td>0020ccbbb6d84e358d3414a3ff76cffd</td>\n",
       "      <td>2</td>\n",
       "      <td>1</td>\n",
       "      <td>1</td>\n",
       "      <td>F</td>\n",
       "      <td>24</td>\n",
       "      <td>2016-11-11</td>\n",
       "      <td>60000.00</td>\n",
       "      <td>627</td>\n",
       "    </tr>\n",
       "  </tbody>\n",
       "</table>\n",
       "</div>"
      ],
      "text/plain": [
       "                        customer_id  bogo  discount  informational gender  \\\n",
       "0  0009655768c64bdeb2e877511632db8f     1         2              2      M   \n",
       "1  00116118485d4dfda04fdbaba9a87b5c     2         0              0      O   \n",
       "2  0011e0d4e6b944f998e987f904e8c1e5     1         2              2      O   \n",
       "3  0020c2b971eb4e9188eac86d93036a77     2         2              1      F   \n",
       "4  0020ccbbb6d84e358d3414a3ff76cffd     2         1              1      F   \n",
       "\n",
       "   age became_member_on   income  days_as_member  \n",
       "0   33       2017-04-21 72000.00             466  \n",
       "1   55       2018-04-25 64000.00              97  \n",
       "2   40       2018-01-09 57000.00             203  \n",
       "3   59       2016-03-04 90000.00             879  \n",
       "4   24       2016-11-11 60000.00             627  "
      ]
     },
     "execution_count": 30,
     "metadata": {},
     "output_type": "execute_result"
    }
   ],
   "source": [
    "print(customers_offers_merged_profile.shape)\n",
    "customers_offers_merged_profile.head()"
   ]
  },
  {
   "cell_type": "code",
   "execution_count": 31,
   "metadata": {
    "scrolled": false
   },
   "outputs": [
    {
     "data": {
      "text/html": [
       "<div>\n",
       "<style scoped>\n",
       "    .dataframe tbody tr th:only-of-type {\n",
       "        vertical-align: middle;\n",
       "    }\n",
       "\n",
       "    .dataframe tbody tr th {\n",
       "        vertical-align: top;\n",
       "    }\n",
       "\n",
       "    .dataframe thead th {\n",
       "        text-align: right;\n",
       "    }\n",
       "</style>\n",
       "<table border=\"1\" class=\"dataframe\">\n",
       "  <thead>\n",
       "    <tr style=\"text-align: right;\">\n",
       "      <th></th>\n",
       "      <th>bogo</th>\n",
       "      <th>discount</th>\n",
       "      <th>informational</th>\n",
       "      <th>age</th>\n",
       "      <th>income</th>\n",
       "      <th>days_as_member</th>\n",
       "    </tr>\n",
       "  </thead>\n",
       "  <tbody>\n",
       "    <tr>\n",
       "      <th>count</th>\n",
       "      <td>16994.00</td>\n",
       "      <td>16994.00</td>\n",
       "      <td>16994.00</td>\n",
       "      <td>16994.00</td>\n",
       "      <td>16994.00</td>\n",
       "      <td>16994.00</td>\n",
       "    </tr>\n",
       "    <tr>\n",
       "      <th>mean</th>\n",
       "      <td>1.79</td>\n",
       "      <td>1.80</td>\n",
       "      <td>0.90</td>\n",
       "      <td>54.47</td>\n",
       "      <td>65226.90</td>\n",
       "      <td>522.44</td>\n",
       "    </tr>\n",
       "    <tr>\n",
       "      <th>std</th>\n",
       "      <td>1.12</td>\n",
       "      <td>1.13</td>\n",
       "      <td>0.87</td>\n",
       "      <td>16.23</td>\n",
       "      <td>20174.70</td>\n",
       "      <td>411.27</td>\n",
       "    </tr>\n",
       "    <tr>\n",
       "      <th>min</th>\n",
       "      <td>0.00</td>\n",
       "      <td>0.00</td>\n",
       "      <td>0.00</td>\n",
       "      <td>18.00</td>\n",
       "      <td>30000.00</td>\n",
       "      <td>5.00</td>\n",
       "    </tr>\n",
       "    <tr>\n",
       "      <th>25%</th>\n",
       "      <td>1.00</td>\n",
       "      <td>1.00</td>\n",
       "      <td>0.00</td>\n",
       "      <td>45.00</td>\n",
       "      <td>51000.00</td>\n",
       "      <td>213.00</td>\n",
       "    </tr>\n",
       "    <tr>\n",
       "      <th>50%</th>\n",
       "      <td>2.00</td>\n",
       "      <td>2.00</td>\n",
       "      <td>1.00</td>\n",
       "      <td>55.00</td>\n",
       "      <td>64000.00</td>\n",
       "      <td>363.00</td>\n",
       "    </tr>\n",
       "    <tr>\n",
       "      <th>75%</th>\n",
       "      <td>3.00</td>\n",
       "      <td>3.00</td>\n",
       "      <td>1.00</td>\n",
       "      <td>65.00</td>\n",
       "      <td>76000.00</td>\n",
       "      <td>796.00</td>\n",
       "    </tr>\n",
       "    <tr>\n",
       "      <th>max</th>\n",
       "      <td>6.00</td>\n",
       "      <td>6.00</td>\n",
       "      <td>5.00</td>\n",
       "      <td>101.00</td>\n",
       "      <td>120000.00</td>\n",
       "      <td>1828.00</td>\n",
       "    </tr>\n",
       "  </tbody>\n",
       "</table>\n",
       "</div>"
      ],
      "text/plain": [
       "          bogo  discount  informational      age    income  days_as_member\n",
       "count 16994.00  16994.00       16994.00 16994.00  16994.00        16994.00\n",
       "mean      1.79      1.80           0.90    54.47  65226.90          522.44\n",
       "std       1.12      1.13           0.87    16.23  20174.70          411.27\n",
       "min       0.00      0.00           0.00    18.00  30000.00            5.00\n",
       "25%       1.00      1.00           0.00    45.00  51000.00          213.00\n",
       "50%       2.00      2.00           1.00    55.00  64000.00          363.00\n",
       "75%       3.00      3.00           1.00    65.00  76000.00          796.00\n",
       "max       6.00      6.00           5.00   101.00 120000.00         1828.00"
      ]
     },
     "execution_count": 31,
     "metadata": {},
     "output_type": "execute_result"
    }
   ],
   "source": [
    "customers_offers_merged_profile.describe()"
   ]
  },
  {
   "cell_type": "markdown",
   "metadata": {},
   "source": [
    "####  Gender (categorical variable)"
   ]
  },
  {
   "cell_type": "code",
   "execution_count": 32,
   "metadata": {},
   "outputs": [
    {
     "data": {
      "text/plain": [
       "Text(0.5, 1.0, 'Informational')"
      ]
     },
     "execution_count": 32,
     "metadata": {},
     "output_type": "execute_result"
    },
    {
     "data": {
      "image/png": "[encoded data removed]",
      "text/plain": [
       "<Figure size 1080x216 with 3 Axes>"
      ]
     },
     "metadata": {},
     "output_type": "display_data"
    }
   ],
   "source": [
    "plt.figure(figsize=[15,3]) \n",
    "plt.subplots_adjust(wspace = 0.3 , hspace= 0.5)\n",
    "gender_order = customers_offers_merged_profile.gender.value_counts()\n",
    "\n",
    "plt.subplot(1, 3, 1)\n",
    "sns.barplot(data = customers_offers_merged_profile, x = 'gender', y= 'bogo', color = base_color, order = gender_order.index)\n",
    "plt.ylabel('Avg. # of BOGO Offer') \n",
    "plt.title('BOGO')\n",
    "\n",
    "plt.subplot(1, 3, 2)\n",
    "sns.barplot(data = customers_offers_merged_profile, x = 'gender', y= 'discount', color = base_color, order = gender_order.index)\n",
    "plt.ylabel('Avg. # of Discount Offer') \n",
    "plt.title('Discount')\n",
    "\n",
    "plt.subplot(1, 3, 3)\n",
    "sns.barplot(data = customers_offers_merged_profile, x = 'gender', y= 'informational', color = base_color, order = gender_order.index)\n",
    "plt.ylabel('Avg. # of Informational Offer') \n",
    "plt.title('Informational')"
   ]
  },
  {
   "cell_type": "markdown",
   "metadata": {},
   "source": [
    "#### Income, Age, Days_as_member (numeric variables)"
   ]
  },
  {
   "cell_type": "code",
   "execution_count": 33,
   "metadata": {},
   "outputs": [
    {
     "data": {
      "image/png": "[encoded data removed]",
      "text/plain": [
       "<Figure size 576x288 with 2 Axes>"
      ]
     },
     "metadata": {},
     "output_type": "display_data"
    }
   ],
   "source": [
    "# Correlation in Heatmap form \n",
    "plt.figure(figsize=(8,4))\n",
    "s = sns.heatmap(customers_offers_merged_profile.corr(), annot = True, cmap = 'RdBu', vmin = -1, vmax=1)\n",
    "\n",
    "s.set_yticklabels(s.get_yticklabels(), rotation = 0, fontsize =12) \n",
    "s.set_xticklabels(s.get_xticklabels(), rotation = 90, fontsize =12) \n",
    "plt.title('Correlation Heatmap', fontsize =18)\n",
    "plt.show()"
   ]
  },
  {
   "cell_type": "markdown",
   "metadata": {},
   "source": [
    "> **Comments:**\n",
    "> - All customers in the profle dataset purchased products at Starbucks, although not all of them received offers. \n",
    "> - The average age of customers are 54.5 years old, and their average yearly income is around 65227. \n",
    "> - There is no significant difference between genders regarding the received type of offers. \n",
    "> - Finally the total number of offers and the number of each type of offers are not correlated with customer's ages, incomes, the number of days as a Starbucks member."
   ]
  },
  {
   "cell_type": "markdown",
   "metadata": {},
   "source": [
    "### 3. 3. Starbucks Offers Exploration\n",
    "\n",
    "> In this subsection, I investigate the transaction data based on the perspective of offer types. For instance, how the offers are distributed during the test period."
   ]
  },
  {
   "cell_type": "code",
   "execution_count": 34,
   "metadata": {},
   "outputs": [],
   "source": [
    "# To avoid double counting, I filtered the 'offer received' only. \n",
    "offers_received = offers_transaction_df.query('event==\"offer received\"')"
   ]
  },
  {
   "cell_type": "code",
   "execution_count": 35,
   "metadata": {},
   "outputs": [
    {
     "data": {
      "image/png": "[encoded data removed]",
      "text/plain": [
       "<Figure size 504x360 with 1 Axes>"
      ]
     },
     "metadata": {},
     "output_type": "display_data"
    }
   ],
   "source": [
    "# The number of different offers which are issued in each month\n",
    "plt.figure(figsize =[7,5])\n",
    "ax = sns.countplot(data = offers_received, x = 'months', hue = 'offer_type')"
   ]
  },
  {
   "cell_type": "code",
   "execution_count": 36,
   "metadata": {
    "scrolled": true
   },
   "outputs": [
    {
     "data": {
      "text/plain": [
       "discount         30543\n",
       "bogo             30499\n",
       "informational    15235\n",
       "Name: offer_type, dtype: int64"
      ]
     },
     "execution_count": 36,
     "metadata": {},
     "output_type": "execute_result"
    }
   ],
   "source": [
    "# Total number of issued offers \n",
    "offers_received.offer_type.value_counts()"
   ]
  },
  {
   "cell_type": "code",
   "execution_count": 37,
   "metadata": {},
   "outputs": [
    {
     "data": {
      "text/plain": [
       "<AxesSubplot:xlabel='offer_type', ylabel='count'>"
      ]
     },
     "execution_count": 37,
     "metadata": {},
     "output_type": "execute_result"
    },
    {
     "data": {
      "image/png": "[encoded data removed]",
      "text/plain": [
       "<Figure size 504x360 with 1 Axes>"
      ]
     },
     "metadata": {},
     "output_type": "display_data"
    }
   ],
   "source": [
    "# The number of different events on each offer type. \n",
    "plt.figure(figsize =[7,5])\n",
    "sns.countplot(data = offers_transaction_df, x = 'offer_type', hue = 'event', color = base_color)"
   ]
  },
  {
   "cell_type": "markdown",
   "metadata": {},
   "source": [
    "> 1. The number of issued offers are unbalanced. 'BOGO' and 'Discount' types of offers are almost evenly distributed; around 30000. On the other hand, \"Informational\" type of offer is issued only the half of them (ca. 15000). \n",
    "> 2. Not all of the issued offers are viewed. Only 75,68% (= 57725/76277)of offers are checked by customers. \n",
    "> 3. Only half of issued 'BOGO' and 'discount' offers are completed. Note that the event whether the informational type of data is completed, is not collected.\n",
    "> 4. From the last bar graph, we can recognize that customers viewed more 'BOGO' offers than 'Discount' offers. On the other hand, more 'Discount' type of offers are completed. "
   ]
  },
  {
   "cell_type": "markdown",
   "metadata": {},
   "source": [
    "### 3. 4. Customer Purchasing Patterns\n",
    "\n",
    "> In this section, I explore customer purchasing patterns based on RFM analysis. [Reference - RFM analysis](https://en.wikipedia.org/wiki/RFM_(market_research))\n",
    "RFM is an evaluation method to analyse customer value. It is often used in database marketing especially in retail and professional services industries. RFM indicates the following 3 dimensions:\n",
    "> - Recency – How recently did the customer purchase?\n",
    "> - Frequency – How often do they purchase?\n",
    "> - Monetary Value – How much do they spend? \n",
    "<br><br>\n",
    "> These features can be obtained from the provided transaction dataset."
   ]
  },
  {
   "cell_type": "code",
   "execution_count": 38,
   "metadata": {},
   "outputs": [],
   "source": [
    "# Recency \n",
    "recency = sales_transaction_df.groupby('customer_id', as_index= False)['days'].max()\n",
    "recency['days'] = 120 - recency['days']\n",
    "recency.rename(columns={'days':'recency'}, inplace = True)  "
   ]
  },
  {
   "cell_type": "code",
   "execution_count": 39,
   "metadata": {},
   "outputs": [],
   "source": [
    "# Frequency \n",
    "transaction_cnt = sales_transaction_df.groupby(['customer_id','days'], as_index= False)['amount'].count()\n",
    "frequency = transaction_cnt.groupby('customer_id')['days'].count().reset_index()\n",
    "frequency.rename(columns={'days':'frequency'}, inplace = True)      "
   ]
  },
  {
   "cell_type": "code",
   "execution_count": 40,
   "metadata": {},
   "outputs": [],
   "source": [
    "# Monetary Values \n",
    "monetary = sales_transaction_df.groupby('customer_id', as_index= False)['amount'].sum()\n",
    "monetary.rename(columns={'amount':'monetary'}, inplace = True)      "
   ]
  },
  {
   "cell_type": "code",
   "execution_count": 41,
   "metadata": {},
   "outputs": [
    {
     "name": "stdout",
     "output_type": "stream",
     "text": [
      "The size of the RFM dataframe:  (16578, 4)\n"
     ]
    },
    {
     "data": {
      "text/html": [
       "<div>\n",
       "<style scoped>\n",
       "    .dataframe tbody tr th:only-of-type {\n",
       "        vertical-align: middle;\n",
       "    }\n",
       "\n",
       "    .dataframe tbody tr th {\n",
       "        vertical-align: top;\n",
       "    }\n",
       "\n",
       "    .dataframe thead th {\n",
       "        text-align: right;\n",
       "    }\n",
       "</style>\n",
       "<table border=\"1\" class=\"dataframe\">\n",
       "  <thead>\n",
       "    <tr style=\"text-align: right;\">\n",
       "      <th></th>\n",
       "      <th>customer_id</th>\n",
       "      <th>recency</th>\n",
       "      <th>frequency</th>\n",
       "      <th>monetary</th>\n",
       "    </tr>\n",
       "  </thead>\n",
       "  <tbody>\n",
       "    <tr>\n",
       "      <th>0</th>\n",
       "      <td>0009655768c64bdeb2e877511632db8f</td>\n",
       "      <td>3</td>\n",
       "      <td>8</td>\n",
       "      <td>127.60</td>\n",
       "    </tr>\n",
       "    <tr>\n",
       "      <th>1</th>\n",
       "      <td>00116118485d4dfda04fdbaba9a87b5c</td>\n",
       "      <td>40</td>\n",
       "      <td>3</td>\n",
       "      <td>4.09</td>\n",
       "    </tr>\n",
       "    <tr>\n",
       "      <th>2</th>\n",
       "      <td>0011e0d4e6b944f998e987f904e8c1e5</td>\n",
       "      <td>10</td>\n",
       "      <td>5</td>\n",
       "      <td>79.46</td>\n",
       "    </tr>\n",
       "    <tr>\n",
       "      <th>3</th>\n",
       "      <td>0020c2b971eb4e9188eac86d93036a77</td>\n",
       "      <td>1</td>\n",
       "      <td>8</td>\n",
       "      <td>196.86</td>\n",
       "    </tr>\n",
       "    <tr>\n",
       "      <th>4</th>\n",
       "      <td>0020ccbbb6d84e358d3414a3ff76cffd</td>\n",
       "      <td>7</td>\n",
       "      <td>12</td>\n",
       "      <td>154.05</td>\n",
       "    </tr>\n",
       "  </tbody>\n",
       "</table>\n",
       "</div>"
      ],
      "text/plain": [
       "                        customer_id  recency  frequency  monetary\n",
       "0  0009655768c64bdeb2e877511632db8f        3          8    127.60\n",
       "1  00116118485d4dfda04fdbaba9a87b5c       40          3      4.09\n",
       "2  0011e0d4e6b944f998e987f904e8c1e5       10          5     79.46\n",
       "3  0020c2b971eb4e9188eac86d93036a77        1          8    196.86\n",
       "4  0020ccbbb6d84e358d3414a3ff76cffd        7         12    154.05"
      ]
     },
     "execution_count": 41,
     "metadata": {},
     "output_type": "execute_result"
    }
   ],
   "source": [
    "# Merge the 3 elements \n",
    "rfm = recency.merge(frequency, left_on = 'customer_id', right_on = 'customer_id', how = 'inner')\n",
    "rfm_df = rfm.merge(monetary, left_on = 'customer_id', right_on = 'customer_id', how = 'inner')\n",
    "\n",
    "print('The size of the RFM dataframe: ' , rfm_df.shape)\n",
    "rfm_df.head()"
   ]
  },
  {
   "cell_type": "code",
   "execution_count": 42,
   "metadata": {
    "scrolled": true
   },
   "outputs": [
    {
     "data": {
      "text/html": [
       "<div>\n",
       "<style scoped>\n",
       "    .dataframe tbody tr th:only-of-type {\n",
       "        vertical-align: middle;\n",
       "    }\n",
       "\n",
       "    .dataframe tbody tr th {\n",
       "        vertical-align: top;\n",
       "    }\n",
       "\n",
       "    .dataframe thead th {\n",
       "        text-align: right;\n",
       "    }\n",
       "</style>\n",
       "<table border=\"1\" class=\"dataframe\">\n",
       "  <thead>\n",
       "    <tr style=\"text-align: right;\">\n",
       "      <th></th>\n",
       "      <th>recency</th>\n",
       "      <th>frequency</th>\n",
       "      <th>monetary</th>\n",
       "    </tr>\n",
       "  </thead>\n",
       "  <tbody>\n",
       "    <tr>\n",
       "      <th>count</th>\n",
       "      <td>16578.00</td>\n",
       "      <td>16578.00</td>\n",
       "      <td>16578.00</td>\n",
       "    </tr>\n",
       "    <tr>\n",
       "      <th>mean</th>\n",
       "      <td>14.24</td>\n",
       "      <td>8.38</td>\n",
       "      <td>107.10</td>\n",
       "    </tr>\n",
       "    <tr>\n",
       "      <th>std</th>\n",
       "      <td>13.79</td>\n",
       "      <td>5.01</td>\n",
       "      <td>126.39</td>\n",
       "    </tr>\n",
       "    <tr>\n",
       "      <th>min</th>\n",
       "      <td>0.00</td>\n",
       "      <td>1.00</td>\n",
       "      <td>0.05</td>\n",
       "    </tr>\n",
       "    <tr>\n",
       "      <th>25%</th>\n",
       "      <td>4.00</td>\n",
       "      <td>5.00</td>\n",
       "      <td>23.68</td>\n",
       "    </tr>\n",
       "    <tr>\n",
       "      <th>50%</th>\n",
       "      <td>10.00</td>\n",
       "      <td>7.00</td>\n",
       "      <td>72.41</td>\n",
       "    </tr>\n",
       "    <tr>\n",
       "      <th>75%</th>\n",
       "      <td>20.00</td>\n",
       "      <td>11.00</td>\n",
       "      <td>150.94</td>\n",
       "    </tr>\n",
       "    <tr>\n",
       "      <th>max</th>\n",
       "      <td>117.00</td>\n",
       "      <td>36.00</td>\n",
       "      <td>1608.69</td>\n",
       "    </tr>\n",
       "  </tbody>\n",
       "</table>\n",
       "</div>"
      ],
      "text/plain": [
       "       recency  frequency  monetary\n",
       "count 16578.00   16578.00  16578.00\n",
       "mean     14.24       8.38    107.10\n",
       "std      13.79       5.01    126.39\n",
       "min       0.00       1.00      0.05\n",
       "25%       4.00       5.00     23.68\n",
       "50%      10.00       7.00     72.41\n",
       "75%      20.00      11.00    150.94\n",
       "max     117.00      36.00   1608.69"
      ]
     },
     "execution_count": 42,
     "metadata": {},
     "output_type": "execute_result"
    }
   ],
   "source": [
    "# Descriptive Statistics of RFM dimensions\n",
    "rfm_df.describe()"
   ]
  },
  {
   "cell_type": "code",
   "execution_count": 43,
   "metadata": {},
   "outputs": [
    {
     "data": {
      "text/plain": [
       "array([[<AxesSubplot:xlabel='recency', ylabel='recency'>,\n",
       "        <AxesSubplot:xlabel='frequency', ylabel='recency'>,\n",
       "        <AxesSubplot:xlabel='monetary', ylabel='recency'>],\n",
       "       [<AxesSubplot:xlabel='recency', ylabel='frequency'>,\n",
       "        <AxesSubplot:xlabel='frequency', ylabel='frequency'>,\n",
       "        <AxesSubplot:xlabel='monetary', ylabel='frequency'>],\n",
       "       [<AxesSubplot:xlabel='recency', ylabel='monetary'>,\n",
       "        <AxesSubplot:xlabel='frequency', ylabel='monetary'>,\n",
       "        <AxesSubplot:xlabel='monetary', ylabel='monetary'>]], dtype=object)"
      ]
     },
     "execution_count": 43,
     "metadata": {},
     "output_type": "execute_result"
    },
    {
     "data": {
      "image/png": "[encoded data removed]",
      "text/plain": [
       "<Figure size 576x576 with 9 Axes>"
      ]
     },
     "metadata": {},
     "output_type": "display_data"
    }
   ],
   "source": [
    "# Visualisation of customer purchasing patterns. \n",
    "pd.plotting.scatter_matrix(rfm_df, figsize = (8,8))"
   ]
  },
  {
   "cell_type": "code",
   "execution_count": 44,
   "metadata": {},
   "outputs": [
    {
     "data": {
      "image/png": "[encoded data removed]",
      "text/plain": [
       "<Figure size 432x288 with 2 Axes>"
      ]
     },
     "metadata": {},
     "output_type": "display_data"
    }
   ],
   "source": [
    "# Correlation in Heatmap form \n",
    "plt.figure(figsize=(6,4))\n",
    "s = sns.heatmap(rfm_df.corr(), annot = True, cmap = 'RdBu', vmin = -1, vmax=1)\n",
    "s.set_yticklabels(s.get_yticklabels(), rotation = 0, fontsize =12) \n",
    "s.set_xticklabels(s.get_xticklabels(), rotation = 90, fontsize =12) \n",
    "plt.title('Correlation Heatmap', fontsize =15)\n",
    "plt.show()"
   ]
  },
  {
   "cell_type": "markdown",
   "metadata": {},
   "source": [
    "> 1. I explore purchasing patterns of customers according to RFM Analysis. RFM analysis evaluates customer purchasing patterns with 3 elements: How recently does a customer purchase a product at Starbucks (Recency)? How often does the customer purchase a product during the period (Frequency)? How much does the customer spend at Starbucks (Monetary Value)? \n",
    "> 2. The latest purchase of customers is 14 days ago on average. Customers bought products 8 times at Starbucks on average. Also, the mean value of 'monetary' indicates that their average spendings during the test period is a little bit higher than 100 dollars. \n",
    "> 3. The scatter matrix shows interesting purchase patterns of customers. The histograms of recency, frequency and monetary values are all skewed to the right. Recency is negatively correlated with frequency and monetary values. On the other hand, frequency is positively related with monetary values. \n",
    "> 4. This indicates that the more recently customers purchase Starbucks products (lower recency value), the more frequently the customers buy our products, and the more they spend at Starbucks. Intuitively, the more frequently customers purchase, the more they spend at our store. \n",
    "> 5. The second heatmap indicates that the number of different offers that Starbucks sent to its customers are not highly related to their recency, frequency and monetary elements.  "
   ]
  },
  {
   "cell_type": "markdown",
   "metadata": {},
   "source": [
    "------------------------\n"
   ]
  },
  {
   "cell_type": "markdown",
   "metadata": {},
   "source": [
    "<a id='Analysis'></a>\n",
    "## 4. Data Analysis"
   ]
  },
  {
   "cell_type": "markdown",
   "metadata": {},
   "source": [
    "### 4. 1. Feature Engineering \n",
    "\n",
    "> During the test period, customers are received different offer(s). Some customers followed desirable processes to be rewarded. However, not all of them. Some other customers get rewarded without noticing that they received the offers. In this subsection, I define the \"desirably-used\" offers. Then I identify each offer and subsequent events were either 'desirable' or 'non-desirable'.  "
   ]
  },
  {
   "attachments": {
    "image-2.png": {
     "image/png": "[encoded data removed]"
    }
   },
   "cell_type": "markdown",
   "metadata": {},
   "source": [
    "![image-2.png](attachment:image-2.png)"
   ]
  },
  {
   "cell_type": "markdown",
   "metadata": {},
   "source": [
    "#### The Definition of \"Desirably-used\" Offers"
   ]
  },
  {
   "cell_type": "markdown",
   "metadata": {},
   "source": [
    "I defined the meaning of \"desirable\" more broadly. \n",
    "- **Case 1**: If a person received an offer, viewed it, purchased a product, then met the level of difficulty (the minimum amount of spending to complete and get reward),and if all these processes occured during the offer duration, this person followed the \"typical\" desirable path of using offers. \n",
    "- **Case 2**: A person received an offer, viewed it, purchased a product. All these 3 processes occured during the offer duration. However, this person could not reach the difficulty of corresponding offers.  \n",
    "\n",
    "In the provided dataset, some customers show different purchasing patterns. \n",
    "\n",
    "- **Case 3**: A person received an offer, viewed it during the offer duration. However after the person checked the offer, he/she did not purchase during the offer duration. \n",
    "- **Case 4**: A person received an offer. However the customer has not viewed it during the offer duration. Then he/she satisfy the difficulty of corresponding offers, so the customer got rewards. \n",
    "- **Case 5**: Similarly, a person received an offer. However the customer has not viewed it during the offer duration. Since this type of customer has not satisfied the minimum level of spendings, so they could not enjoy any rewards.\n",
    "- **Case 6**: A customer who received an offer. However, the customer has not checked it and showed any transactions during the offer duration. \n",
    "- **Case 7**: These customers groups are actually ideal for our company. Although they didnt receive any offers, they purchased products at our stores.\n",
    "<br><br>\n",
    "\n",
    "Therefore, it is more efficient to analyse differrent demographic characters of the customer groups who used our offers properly (Case 1, Case 2), comparing to other customers (Case 3, Case 4, Case 5, Case 6, Case 7), to maximize the effect of offers in the future. "
   ]
  },
  {
   "cell_type": "markdown",
   "metadata": {},
   "source": [
    "#### Step 1: Restructuring the Transaction Dataframe"
   ]
  },
  {
   "cell_type": "code",
   "execution_count": 45,
   "metadata": {
    "scrolled": true
   },
   "outputs": [
    {
     "name": "stderr",
     "output_type": "stream",
     "text": [
      "/Library/Frameworks/Python.framework/Versions/3.9/lib/python3.9/site-packages/pandas/core/frame.py:4300: SettingWithCopyWarning: \n",
      "A value is trying to be set on a copy of a slice from a DataFrame\n",
      "\n",
      "See the caveats in the documentation: https://pandas.pydata.org/pandas-docs/stable/user_guide/indexing.html#returning-a-view-versus-a-copy\n",
      "  return super().rename(\n"
     ]
    }
   ],
   "source": [
    "# To figure out which customers belong to which cases, I restructured the transaction dataframe.\n",
    "transactions_event_df = pd.concat([transactions_df, pd.get_dummies(transactions_df.event)], axis = 1)\n",
    "transactions_event_df.drop(['event','months'], axis = 1, inplace=True)\n",
    "\n",
    "# To avoid any confusions, I selected necessary columns for the purpose of analysis in this section and rename the columns.\n",
    "trans_event_mod_df = transactions_event_df[['customer_id', 'time','offer_id','days','offer received','offer viewed', 'transaction','offer completed','reward']]\n",
    "trans_event_mod_df.rename(columns={'offer viewed': 'offer_viewed', 'offer received':'offer_received', 'offer completed':'offer_completed' },inplace = True)"
   ]
  },
  {
   "cell_type": "markdown",
   "metadata": {},
   "source": [
    "#### Step 2: Computing the valid offer Day"
   ]
  },
  {
   "cell_type": "code",
   "execution_count": 46,
   "metadata": {},
   "outputs": [],
   "source": [
    "# Then I combined the dataframe with offer type and its duration from offer information dataset. \n",
    "trans_offer_info = trans_event_mod_df.merge(offer_info_df[['offer_id', 'offer_type','duration']], \n",
    "                                    left_on = 'offer_id', right_on = 'offer_id', how='left')\n",
    "\n",
    "# For the calculation convenience, I fill up zeros into null values. \n",
    "trans_offer_info = trans_offer_info.fillna(0)\n",
    "\n",
    "# I created a new column represening the last day of each offer. \n",
    "trans_offer_info['max_offer_day'] = trans_offer_info.offer_received*(trans_offer_info.duration + trans_offer_info.days)"
   ]
  },
  {
   "cell_type": "code",
   "execution_count": 47,
   "metadata": {
    "scrolled": false
   },
   "outputs": [
    {
     "data": {
      "text/html": [
       "<div>\n",
       "<style scoped>\n",
       "    .dataframe tbody tr th:only-of-type {\n",
       "        vertical-align: middle;\n",
       "    }\n",
       "\n",
       "    .dataframe tbody tr th {\n",
       "        vertical-align: top;\n",
       "    }\n",
       "\n",
       "    .dataframe thead th {\n",
       "        text-align: right;\n",
       "    }\n",
       "</style>\n",
       "<table border=\"1\" class=\"dataframe\">\n",
       "  <thead>\n",
       "    <tr style=\"text-align: right;\">\n",
       "      <th></th>\n",
       "      <th>customer_id</th>\n",
       "      <th>time</th>\n",
       "      <th>offer_id</th>\n",
       "      <th>days</th>\n",
       "      <th>offer_received</th>\n",
       "      <th>offer_viewed</th>\n",
       "      <th>transaction</th>\n",
       "      <th>offer_completed</th>\n",
       "      <th>reward</th>\n",
       "      <th>offer_type</th>\n",
       "      <th>duration</th>\n",
       "      <th>max_offer_day</th>\n",
       "    </tr>\n",
       "  </thead>\n",
       "  <tbody>\n",
       "    <tr>\n",
       "      <th>0</th>\n",
       "      <td>78afa995795e4d85b5d9ceeca43f5fef</td>\n",
       "      <td>0</td>\n",
       "      <td>9b98b8c7a33c4b65b9aebfe6a799e6d9</td>\n",
       "      <td>1</td>\n",
       "      <td>1</td>\n",
       "      <td>0</td>\n",
       "      <td>0</td>\n",
       "      <td>0</td>\n",
       "      <td>0.00</td>\n",
       "      <td>bogo</td>\n",
       "      <td>7.00</td>\n",
       "      <td>8.00</td>\n",
       "    </tr>\n",
       "    <tr>\n",
       "      <th>1</th>\n",
       "      <td>a03223e636434f42ac4c3df47e8bac43</td>\n",
       "      <td>0</td>\n",
       "      <td>0b1e1539f2cc45b7b9fa7c272da2e1d7</td>\n",
       "      <td>1</td>\n",
       "      <td>1</td>\n",
       "      <td>0</td>\n",
       "      <td>0</td>\n",
       "      <td>0</td>\n",
       "      <td>0.00</td>\n",
       "      <td>discount</td>\n",
       "      <td>10.00</td>\n",
       "      <td>11.00</td>\n",
       "    </tr>\n",
       "    <tr>\n",
       "      <th>2</th>\n",
       "      <td>e2127556f4f64592b11af22de27a7932</td>\n",
       "      <td>0</td>\n",
       "      <td>2906b810c7d4411798c6938adc9daaa5</td>\n",
       "      <td>1</td>\n",
       "      <td>1</td>\n",
       "      <td>0</td>\n",
       "      <td>0</td>\n",
       "      <td>0</td>\n",
       "      <td>0.00</td>\n",
       "      <td>discount</td>\n",
       "      <td>7.00</td>\n",
       "      <td>8.00</td>\n",
       "    </tr>\n",
       "    <tr>\n",
       "      <th>3</th>\n",
       "      <td>8ec6ce2a7e7949b1bf142def7d0e0586</td>\n",
       "      <td>0</td>\n",
       "      <td>fafdcd668e3743c1bb461111dcafc2a4</td>\n",
       "      <td>1</td>\n",
       "      <td>1</td>\n",
       "      <td>0</td>\n",
       "      <td>0</td>\n",
       "      <td>0</td>\n",
       "      <td>0.00</td>\n",
       "      <td>discount</td>\n",
       "      <td>10.00</td>\n",
       "      <td>11.00</td>\n",
       "    </tr>\n",
       "    <tr>\n",
       "      <th>4</th>\n",
       "      <td>68617ca6246f4fbc85e91a2a49552598</td>\n",
       "      <td>0</td>\n",
       "      <td>4d5c57ea9a6940dd891ad53e9dbe8da0</td>\n",
       "      <td>1</td>\n",
       "      <td>1</td>\n",
       "      <td>0</td>\n",
       "      <td>0</td>\n",
       "      <td>0</td>\n",
       "      <td>0.00</td>\n",
       "      <td>bogo</td>\n",
       "      <td>5.00</td>\n",
       "      <td>6.00</td>\n",
       "    </tr>\n",
       "    <tr>\n",
       "      <th>...</th>\n",
       "      <td>...</td>\n",
       "      <td>...</td>\n",
       "      <td>...</td>\n",
       "      <td>...</td>\n",
       "      <td>...</td>\n",
       "      <td>...</td>\n",
       "      <td>...</td>\n",
       "      <td>...</td>\n",
       "      <td>...</td>\n",
       "      <td>...</td>\n",
       "      <td>...</td>\n",
       "      <td>...</td>\n",
       "    </tr>\n",
       "    <tr>\n",
       "      <th>306529</th>\n",
       "      <td>b3a1272bc9904337b331bf348c3e8c17</td>\n",
       "      <td>714</td>\n",
       "      <td></td>\n",
       "      <td>120</td>\n",
       "      <td>0</td>\n",
       "      <td>0</td>\n",
       "      <td>120</td>\n",
       "      <td>0</td>\n",
       "      <td>0.00</td>\n",
       "      <td>0</td>\n",
       "      <td>0.00</td>\n",
       "      <td>0.00</td>\n",
       "    </tr>\n",
       "    <tr>\n",
       "      <th>306530</th>\n",
       "      <td>68213b08d99a4ae1b0dcb72aebd9aa35</td>\n",
       "      <td>714</td>\n",
       "      <td></td>\n",
       "      <td>120</td>\n",
       "      <td>0</td>\n",
       "      <td>0</td>\n",
       "      <td>120</td>\n",
       "      <td>0</td>\n",
       "      <td>0.00</td>\n",
       "      <td>0</td>\n",
       "      <td>0.00</td>\n",
       "      <td>0.00</td>\n",
       "    </tr>\n",
       "    <tr>\n",
       "      <th>306531</th>\n",
       "      <td>a00058cf10334a308c68e7631c529907</td>\n",
       "      <td>714</td>\n",
       "      <td></td>\n",
       "      <td>120</td>\n",
       "      <td>0</td>\n",
       "      <td>0</td>\n",
       "      <td>120</td>\n",
       "      <td>0</td>\n",
       "      <td>0.00</td>\n",
       "      <td>0</td>\n",
       "      <td>0.00</td>\n",
       "      <td>0.00</td>\n",
       "    </tr>\n",
       "    <tr>\n",
       "      <th>306532</th>\n",
       "      <td>76ddbd6576844afe811f1a3c0fbb5bec</td>\n",
       "      <td>714</td>\n",
       "      <td></td>\n",
       "      <td>120</td>\n",
       "      <td>0</td>\n",
       "      <td>0</td>\n",
       "      <td>120</td>\n",
       "      <td>0</td>\n",
       "      <td>0.00</td>\n",
       "      <td>0</td>\n",
       "      <td>0.00</td>\n",
       "      <td>0.00</td>\n",
       "    </tr>\n",
       "    <tr>\n",
       "      <th>306533</th>\n",
       "      <td>c02b10e8752c4d8e9b73f918558531f7</td>\n",
       "      <td>714</td>\n",
       "      <td></td>\n",
       "      <td>120</td>\n",
       "      <td>0</td>\n",
       "      <td>0</td>\n",
       "      <td>120</td>\n",
       "      <td>0</td>\n",
       "      <td>0.00</td>\n",
       "      <td>0</td>\n",
       "      <td>0.00</td>\n",
       "      <td>0.00</td>\n",
       "    </tr>\n",
       "  </tbody>\n",
       "</table>\n",
       "<p>306534 rows × 12 columns</p>\n",
       "</div>"
      ],
      "text/plain": [
       "                             customer_id  time  \\\n",
       "0       78afa995795e4d85b5d9ceeca43f5fef     0   \n",
       "1       a03223e636434f42ac4c3df47e8bac43     0   \n",
       "2       e2127556f4f64592b11af22de27a7932     0   \n",
       "3       8ec6ce2a7e7949b1bf142def7d0e0586     0   \n",
       "4       68617ca6246f4fbc85e91a2a49552598     0   \n",
       "...                                  ...   ...   \n",
       "306529  b3a1272bc9904337b331bf348c3e8c17   714   \n",
       "306530  68213b08d99a4ae1b0dcb72aebd9aa35   714   \n",
       "306531  a00058cf10334a308c68e7631c529907   714   \n",
       "306532  76ddbd6576844afe811f1a3c0fbb5bec   714   \n",
       "306533  c02b10e8752c4d8e9b73f918558531f7   714   \n",
       "\n",
       "                                offer_id  days  offer_received  offer_viewed  \\\n",
       "0       9b98b8c7a33c4b65b9aebfe6a799e6d9     1               1             0   \n",
       "1       0b1e1539f2cc45b7b9fa7c272da2e1d7     1               1             0   \n",
       "2       2906b810c7d4411798c6938adc9daaa5     1               1             0   \n",
       "3       fafdcd668e3743c1bb461111dcafc2a4     1               1             0   \n",
       "4       4d5c57ea9a6940dd891ad53e9dbe8da0     1               1             0   \n",
       "...                                  ...   ...             ...           ...   \n",
       "306529                                     120               0             0   \n",
       "306530                                     120               0             0   \n",
       "306531                                     120               0             0   \n",
       "306532                                     120               0             0   \n",
       "306533                                     120               0             0   \n",
       "\n",
       "        transaction  offer_completed  reward offer_type  duration  \\\n",
       "0                 0                0    0.00       bogo      7.00   \n",
       "1                 0                0    0.00   discount     10.00   \n",
       "2                 0                0    0.00   discount      7.00   \n",
       "3                 0                0    0.00   discount     10.00   \n",
       "4                 0                0    0.00       bogo      5.00   \n",
       "...             ...              ...     ...        ...       ...   \n",
       "306529          120                0    0.00          0      0.00   \n",
       "306530          120                0    0.00          0      0.00   \n",
       "306531          120                0    0.00          0      0.00   \n",
       "306532          120                0    0.00          0      0.00   \n",
       "306533          120                0    0.00          0      0.00   \n",
       "\n",
       "        max_offer_day  \n",
       "0                8.00  \n",
       "1               11.00  \n",
       "2                8.00  \n",
       "3               11.00  \n",
       "4                6.00  \n",
       "...               ...  \n",
       "306529           0.00  \n",
       "306530           0.00  \n",
       "306531           0.00  \n",
       "306532           0.00  \n",
       "306533           0.00  \n",
       "\n",
       "[306534 rows x 12 columns]"
      ]
     },
     "execution_count": 47,
     "metadata": {},
     "output_type": "execute_result"
    }
   ],
   "source": [
    "# Then, I multiply the days column with event columns: 'offer_received', 'offer_viewed', 'transaction', 'offer_completed'\n",
    "# These event columns now also explain which day does the event occur. \n",
    "event_cols = ['offer_received', 'offer_viewed', 'transaction', 'offer_completed']\n",
    "trans_offer_info[event_cols]= trans_offer_info[event_cols].multiply(trans_offer_info.days, axis=\"index\" )\n",
    "\n",
    "trans_offer_info # Check the result"
   ]
  },
  {
   "cell_type": "markdown",
   "metadata": {},
   "source": [
    "#### Step 3. Groupping the modified transaction dataframe by 'customer_id',  'days', and 'offer_id'"
   ]
  },
  {
   "cell_type": "code",
   "execution_count": 48,
   "metadata": {},
   "outputs": [],
   "source": [
    "# Third, I groupped the transaction dataframe by Customer_id, days, and offer_id.\n",
    "# The following dataframe (trans_per_pp_days_offer) represents transaction histories per customers, per days, per offers. \n",
    "trans_per_pp_days_offer = trans_offer_info.groupby(['customer_id',  'days', 'offer_id'], as_index= False)[['max_offer_day', 'offer_received', 'offer_viewed', 'transaction', 'offer_completed']].max()"
   ]
  },
  {
   "cell_type": "code",
   "execution_count": 49,
   "metadata": {
    "scrolled": true
   },
   "outputs": [
    {
     "name": "stdout",
     "output_type": "stream",
     "text": [
      "(289408, 8)\n"
     ]
    },
    {
     "data": {
      "text/html": [
       "<div>\n",
       "<style scoped>\n",
       "    .dataframe tbody tr th:only-of-type {\n",
       "        vertical-align: middle;\n",
       "    }\n",
       "\n",
       "    .dataframe tbody tr th {\n",
       "        vertical-align: top;\n",
       "    }\n",
       "\n",
       "    .dataframe thead th {\n",
       "        text-align: right;\n",
       "    }\n",
       "</style>\n",
       "<table border=\"1\" class=\"dataframe\">\n",
       "  <thead>\n",
       "    <tr style=\"text-align: right;\">\n",
       "      <th></th>\n",
       "      <th>customer_id</th>\n",
       "      <th>days</th>\n",
       "      <th>offer_id</th>\n",
       "      <th>max_offer_day</th>\n",
       "      <th>offer_received</th>\n",
       "      <th>offer_viewed</th>\n",
       "      <th>transaction</th>\n",
       "      <th>offer_completed</th>\n",
       "    </tr>\n",
       "  </thead>\n",
       "  <tbody>\n",
       "    <tr>\n",
       "      <th>0</th>\n",
       "      <td>0009655768c64bdeb2e877511632db8f</td>\n",
       "      <td>29</td>\n",
       "      <td>5a8bc65990b245e5a138643cd4eb9837</td>\n",
       "      <td>32.00</td>\n",
       "      <td>29</td>\n",
       "      <td>0</td>\n",
       "      <td>0</td>\n",
       "      <td>0</td>\n",
       "    </tr>\n",
       "    <tr>\n",
       "      <th>1</th>\n",
       "      <td>0009655768c64bdeb2e877511632db8f</td>\n",
       "      <td>33</td>\n",
       "      <td>5a8bc65990b245e5a138643cd4eb9837</td>\n",
       "      <td>32.00</td>\n",
       "      <td>0</td>\n",
       "      <td>33</td>\n",
       "      <td>0</td>\n",
       "      <td>0</td>\n",
       "    </tr>\n",
       "    <tr>\n",
       "      <th>2</th>\n",
       "      <td>0009655768c64bdeb2e877511632db8f</td>\n",
       "      <td>39</td>\n",
       "      <td>5a8bc65990b245e5a138643cd4eb9837</td>\n",
       "      <td>32.00</td>\n",
       "      <td>0</td>\n",
       "      <td>0</td>\n",
       "      <td>39</td>\n",
       "      <td>0</td>\n",
       "    </tr>\n",
       "    <tr>\n",
       "      <th>3</th>\n",
       "      <td>0009655768c64bdeb2e877511632db8f</td>\n",
       "      <td>57</td>\n",
       "      <td>3f207df678b143eea3cee63160fa8bed</td>\n",
       "      <td>61.00</td>\n",
       "      <td>57</td>\n",
       "      <td>0</td>\n",
       "      <td>0</td>\n",
       "      <td>0</td>\n",
       "    </tr>\n",
       "    <tr>\n",
       "      <th>4</th>\n",
       "      <td>0009655768c64bdeb2e877511632db8f</td>\n",
       "      <td>63</td>\n",
       "      <td>3f207df678b143eea3cee63160fa8bed</td>\n",
       "      <td>61.00</td>\n",
       "      <td>0</td>\n",
       "      <td>63</td>\n",
       "      <td>0</td>\n",
       "      <td>0</td>\n",
       "    </tr>\n",
       "    <tr>\n",
       "      <th>5</th>\n",
       "      <td>0009655768c64bdeb2e877511632db8f</td>\n",
       "      <td>69</td>\n",
       "      <td>f19421c1d4aa40978ebb69ca19b0e20d</td>\n",
       "      <td>74.00</td>\n",
       "      <td>69</td>\n",
       "      <td>0</td>\n",
       "      <td>0</td>\n",
       "      <td>0</td>\n",
       "    </tr>\n",
       "    <tr>\n",
       "      <th>6</th>\n",
       "      <td>0009655768c64bdeb2e877511632db8f</td>\n",
       "      <td>70</td>\n",
       "      <td>f19421c1d4aa40978ebb69ca19b0e20d</td>\n",
       "      <td>74.00</td>\n",
       "      <td>0</td>\n",
       "      <td>0</td>\n",
       "      <td>70</td>\n",
       "      <td>0</td>\n",
       "    </tr>\n",
       "    <tr>\n",
       "      <th>7</th>\n",
       "      <td>0009655768c64bdeb2e877511632db8f</td>\n",
       "      <td>70</td>\n",
       "      <td>f19421c1d4aa40978ebb69ca19b0e20d</td>\n",
       "      <td>74.00</td>\n",
       "      <td>0</td>\n",
       "      <td>0</td>\n",
       "      <td>0</td>\n",
       "      <td>70</td>\n",
       "    </tr>\n",
       "    <tr>\n",
       "      <th>8</th>\n",
       "      <td>0009655768c64bdeb2e877511632db8f</td>\n",
       "      <td>77</td>\n",
       "      <td>f19421c1d4aa40978ebb69ca19b0e20d</td>\n",
       "      <td>74.00</td>\n",
       "      <td>0</td>\n",
       "      <td>77</td>\n",
       "      <td>0</td>\n",
       "      <td>0</td>\n",
       "    </tr>\n",
       "    <tr>\n",
       "      <th>9</th>\n",
       "      <td>0009655768c64bdeb2e877511632db8f</td>\n",
       "      <td>85</td>\n",
       "      <td>fafdcd668e3743c1bb461111dcafc2a4</td>\n",
       "      <td>95.00</td>\n",
       "      <td>85</td>\n",
       "      <td>0</td>\n",
       "      <td>0</td>\n",
       "      <td>0</td>\n",
       "    </tr>\n",
       "  </tbody>\n",
       "</table>\n",
       "</div>"
      ],
      "text/plain": [
       "                        customer_id  days                          offer_id  \\\n",
       "0  0009655768c64bdeb2e877511632db8f    29  5a8bc65990b245e5a138643cd4eb9837   \n",
       "1  0009655768c64bdeb2e877511632db8f    33  5a8bc65990b245e5a138643cd4eb9837   \n",
       "2  0009655768c64bdeb2e877511632db8f    39  5a8bc65990b245e5a138643cd4eb9837   \n",
       "3  0009655768c64bdeb2e877511632db8f    57  3f207df678b143eea3cee63160fa8bed   \n",
       "4  0009655768c64bdeb2e877511632db8f    63  3f207df678b143eea3cee63160fa8bed   \n",
       "5  0009655768c64bdeb2e877511632db8f    69  f19421c1d4aa40978ebb69ca19b0e20d   \n",
       "6  0009655768c64bdeb2e877511632db8f    70  f19421c1d4aa40978ebb69ca19b0e20d   \n",
       "7  0009655768c64bdeb2e877511632db8f    70  f19421c1d4aa40978ebb69ca19b0e20d   \n",
       "8  0009655768c64bdeb2e877511632db8f    77  f19421c1d4aa40978ebb69ca19b0e20d   \n",
       "9  0009655768c64bdeb2e877511632db8f    85  fafdcd668e3743c1bb461111dcafc2a4   \n",
       "\n",
       "   max_offer_day  offer_received  offer_viewed  transaction  offer_completed  \n",
       "0          32.00              29             0            0                0  \n",
       "1          32.00               0            33            0                0  \n",
       "2          32.00               0             0           39                0  \n",
       "3          61.00              57             0            0                0  \n",
       "4          61.00               0            63            0                0  \n",
       "5          74.00              69             0            0                0  \n",
       "6          74.00               0             0           70                0  \n",
       "7          74.00               0             0            0               70  \n",
       "8          74.00               0            77            0                0  \n",
       "9          95.00              85             0            0                0  "
      ]
     },
     "execution_count": 49,
     "metadata": {},
     "output_type": "execute_result"
    }
   ],
   "source": [
    "# 4. I modified the aboved dataframe: trans_per_pp_days_offer for convenient calculation as follows \n",
    "# 4-1. Replace the 0s in 'max_offer_day' column with np. NaNs. \n",
    "trans_per_pp_days_offer_v1  = trans_per_pp_days_offer.replace( {'max_offer_day': 0.00, 'offer_id':''}, np.NaN)\n",
    "# 4-2. Fill the NaNs using the method = 'ffill': to propagate last valid observation forward to next valid backfill \n",
    "trans_per_pp_days_offer_v1.fillna(method='ffill',inplace= True)\n",
    "# 4-3. Finally I properly edit the max_offer_day column. \n",
    "print(trans_per_pp_days_offer_v1.shape)\n",
    "trans_per_pp_days_offer_v1.head(10)\n"
   ]
  },
  {
   "cell_type": "code",
   "execution_count": 50,
   "metadata": {},
   "outputs": [],
   "source": [
    "trans_per_event = trans_per_pp_days_offer_v1.copy()"
   ]
  },
  {
   "cell_type": "markdown",
   "metadata": {},
   "source": [
    "#### Step 4. Filtering if events occurred prior to max_offer_day"
   ]
  },
  {
   "cell_type": "code",
   "execution_count": 51,
   "metadata": {},
   "outputs": [],
   "source": [
    "# To receive an offer always occur before max_offer_day \n",
    "trans_per_event = trans_per_event.query('offer_received ==0 ')\n",
    "trans_per_event['event_sum'] = trans_per_event[event_cols].sum(axis=1)"
   ]
  },
  {
   "cell_type": "code",
   "execution_count": 52,
   "metadata": {},
   "outputs": [],
   "source": [
    "# I create a \"desirable\" column: meaning that it is a desirable event, when the event occur before the max_offer_day\n",
    "trans_per_event['desirable'] = trans_per_event['max_offer_day'] - trans_per_event.event_sum\n",
    "\n",
    "# A desirable event must have positive value. \n",
    "desirable_event = trans_per_event.query('desirable >=0 ')"
   ]
  },
  {
   "cell_type": "code",
   "execution_count": 53,
   "metadata": {},
   "outputs": [
    {
     "data": {
      "text/html": [
       "<div>\n",
       "<style scoped>\n",
       "    .dataframe tbody tr th:only-of-type {\n",
       "        vertical-align: middle;\n",
       "    }\n",
       "\n",
       "    .dataframe tbody tr th {\n",
       "        vertical-align: top;\n",
       "    }\n",
       "\n",
       "    .dataframe thead th {\n",
       "        text-align: right;\n",
       "    }\n",
       "</style>\n",
       "<table border=\"1\" class=\"dataframe\">\n",
       "  <thead>\n",
       "    <tr style=\"text-align: right;\">\n",
       "      <th></th>\n",
       "      <th>customer_id</th>\n",
       "      <th>offer_id</th>\n",
       "      <th>max_offer_day</th>\n",
       "      <th>days</th>\n",
       "      <th>offer_received</th>\n",
       "      <th>offer_viewed</th>\n",
       "      <th>transaction</th>\n",
       "      <th>offer_completed</th>\n",
       "      <th>event_sum</th>\n",
       "      <th>desirable</th>\n",
       "      <th>offer_type</th>\n",
       "    </tr>\n",
       "  </thead>\n",
       "  <tbody>\n",
       "    <tr>\n",
       "      <th>0</th>\n",
       "      <td>0009655768c64bdeb2e877511632db8f</td>\n",
       "      <td>fafdcd668e3743c1bb461111dcafc2a4</td>\n",
       "      <td>95.00</td>\n",
       "      <td>93</td>\n",
       "      <td>0</td>\n",
       "      <td>91</td>\n",
       "      <td>93</td>\n",
       "      <td>89</td>\n",
       "      <td>93</td>\n",
       "      <td>6.00</td>\n",
       "      <td>discount</td>\n",
       "    </tr>\n",
       "    <tr>\n",
       "      <th>1</th>\n",
       "      <td>0020c2b971eb4e9188eac86d93036a77</td>\n",
       "      <td>fafdcd668e3743c1bb461111dcafc2a4</td>\n",
       "      <td>11.00</td>\n",
       "      <td>10</td>\n",
       "      <td>0</td>\n",
       "      <td>3</td>\n",
       "      <td>10</td>\n",
       "      <td>10</td>\n",
       "      <td>10</td>\n",
       "      <td>8.00</td>\n",
       "      <td>discount</td>\n",
       "    </tr>\n",
       "    <tr>\n",
       "      <th>2</th>\n",
       "      <td>003d66b6608740288d6cc97a6903f4f0</td>\n",
       "      <td>fafdcd668e3743c1bb461111dcafc2a4</td>\n",
       "      <td>79.00</td>\n",
       "      <td>79</td>\n",
       "      <td>0</td>\n",
       "      <td>71</td>\n",
       "      <td>79</td>\n",
       "      <td>0</td>\n",
       "      <td>79</td>\n",
       "      <td>8.00</td>\n",
       "      <td>discount</td>\n",
       "    </tr>\n",
       "    <tr>\n",
       "      <th>3</th>\n",
       "      <td>00426fe3ffde4c6b9cb9ad6d077a13ea</td>\n",
       "      <td>fafdcd668e3743c1bb461111dcafc2a4</td>\n",
       "      <td>39.00</td>\n",
       "      <td>37</td>\n",
       "      <td>0</td>\n",
       "      <td>32</td>\n",
       "      <td>37</td>\n",
       "      <td>0</td>\n",
       "      <td>37</td>\n",
       "      <td>7.00</td>\n",
       "      <td>discount</td>\n",
       "    </tr>\n",
       "    <tr>\n",
       "      <th>4</th>\n",
       "      <td>004b041fbfe44859945daa2c7f79ee64</td>\n",
       "      <td>f19421c1d4aa40978ebb69ca19b0e20d</td>\n",
       "      <td>90.00</td>\n",
       "      <td>90</td>\n",
       "      <td>0</td>\n",
       "      <td>86</td>\n",
       "      <td>90</td>\n",
       "      <td>90</td>\n",
       "      <td>90</td>\n",
       "      <td>4.00</td>\n",
       "      <td>bogo</td>\n",
       "    </tr>\n",
       "    <tr>\n",
       "      <th>...</th>\n",
       "      <td>...</td>\n",
       "      <td>...</td>\n",
       "      <td>...</td>\n",
       "      <td>...</td>\n",
       "      <td>...</td>\n",
       "      <td>...</td>\n",
       "      <td>...</td>\n",
       "      <td>...</td>\n",
       "      <td>...</td>\n",
       "      <td>...</td>\n",
       "      <td>...</td>\n",
       "    </tr>\n",
       "    <tr>\n",
       "      <th>13020</th>\n",
       "      <td>fff7576017104bcc8677a8d63322b5e1</td>\n",
       "      <td>fafdcd668e3743c1bb461111dcafc2a4</td>\n",
       "      <td>95.00</td>\n",
       "      <td>94</td>\n",
       "      <td>0</td>\n",
       "      <td>88</td>\n",
       "      <td>94</td>\n",
       "      <td>0</td>\n",
       "      <td>94</td>\n",
       "      <td>7.00</td>\n",
       "      <td>discount</td>\n",
       "    </tr>\n",
       "    <tr>\n",
       "      <th>13021</th>\n",
       "      <td>fff8957ea8b240a6b5e634b6ee8eafcf</td>\n",
       "      <td>fafdcd668e3743c1bb461111dcafc2a4</td>\n",
       "      <td>79.00</td>\n",
       "      <td>76</td>\n",
       "      <td>0</td>\n",
       "      <td>73</td>\n",
       "      <td>76</td>\n",
       "      <td>0</td>\n",
       "      <td>76</td>\n",
       "      <td>6.00</td>\n",
       "      <td>discount</td>\n",
       "    </tr>\n",
       "    <tr>\n",
       "      <th>13022</th>\n",
       "      <td>ffff82501cea40309d5fdd7edcca4a07</td>\n",
       "      <td>0b1e1539f2cc45b7b9fa7c272da2e1d7</td>\n",
       "      <td>39.00</td>\n",
       "      <td>35</td>\n",
       "      <td>0</td>\n",
       "      <td>30</td>\n",
       "      <td>35</td>\n",
       "      <td>34</td>\n",
       "      <td>35</td>\n",
       "      <td>9.00</td>\n",
       "      <td>discount</td>\n",
       "    </tr>\n",
       "    <tr>\n",
       "      <th>13023</th>\n",
       "      <td>ffff82501cea40309d5fdd7edcca4a07</td>\n",
       "      <td>2906b810c7d4411798c6938adc9daaa5</td>\n",
       "      <td>104.00</td>\n",
       "      <td>102</td>\n",
       "      <td>0</td>\n",
       "      <td>98</td>\n",
       "      <td>102</td>\n",
       "      <td>0</td>\n",
       "      <td>102</td>\n",
       "      <td>6.00</td>\n",
       "      <td>discount</td>\n",
       "    </tr>\n",
       "    <tr>\n",
       "      <th>13024</th>\n",
       "      <td>ffff82501cea40309d5fdd7edcca4a07</td>\n",
       "      <td>fafdcd668e3743c1bb461111dcafc2a4</td>\n",
       "      <td>11.00</td>\n",
       "      <td>11</td>\n",
       "      <td>0</td>\n",
       "      <td>2</td>\n",
       "      <td>11</td>\n",
       "      <td>11</td>\n",
       "      <td>11</td>\n",
       "      <td>9.00</td>\n",
       "      <td>discount</td>\n",
       "    </tr>\n",
       "  </tbody>\n",
       "</table>\n",
       "<p>13025 rows × 11 columns</p>\n",
       "</div>"
      ],
      "text/plain": [
       "                            customer_id                          offer_id  \\\n",
       "0      0009655768c64bdeb2e877511632db8f  fafdcd668e3743c1bb461111dcafc2a4   \n",
       "1      0020c2b971eb4e9188eac86d93036a77  fafdcd668e3743c1bb461111dcafc2a4   \n",
       "2      003d66b6608740288d6cc97a6903f4f0  fafdcd668e3743c1bb461111dcafc2a4   \n",
       "3      00426fe3ffde4c6b9cb9ad6d077a13ea  fafdcd668e3743c1bb461111dcafc2a4   \n",
       "4      004b041fbfe44859945daa2c7f79ee64  f19421c1d4aa40978ebb69ca19b0e20d   \n",
       "...                                 ...                               ...   \n",
       "13020  fff7576017104bcc8677a8d63322b5e1  fafdcd668e3743c1bb461111dcafc2a4   \n",
       "13021  fff8957ea8b240a6b5e634b6ee8eafcf  fafdcd668e3743c1bb461111dcafc2a4   \n",
       "13022  ffff82501cea40309d5fdd7edcca4a07  0b1e1539f2cc45b7b9fa7c272da2e1d7   \n",
       "13023  ffff82501cea40309d5fdd7edcca4a07  2906b810c7d4411798c6938adc9daaa5   \n",
       "13024  ffff82501cea40309d5fdd7edcca4a07  fafdcd668e3743c1bb461111dcafc2a4   \n",
       "\n",
       "       max_offer_day  days  offer_received  offer_viewed  transaction  \\\n",
       "0              95.00    93               0            91           93   \n",
       "1              11.00    10               0             3           10   \n",
       "2              79.00    79               0            71           79   \n",
       "3              39.00    37               0            32           37   \n",
       "4              90.00    90               0            86           90   \n",
       "...              ...   ...             ...           ...          ...   \n",
       "13020          95.00    94               0            88           94   \n",
       "13021          79.00    76               0            73           76   \n",
       "13022          39.00    35               0            30           35   \n",
       "13023         104.00   102               0            98          102   \n",
       "13024          11.00    11               0             2           11   \n",
       "\n",
       "       offer_completed  event_sum  desirable offer_type  \n",
       "0                   89         93       6.00   discount  \n",
       "1                   10         10       8.00   discount  \n",
       "2                    0         79       8.00   discount  \n",
       "3                    0         37       7.00   discount  \n",
       "4                   90         90       4.00       bogo  \n",
       "...                ...        ...        ...        ...  \n",
       "13020                0         94       7.00   discount  \n",
       "13021                0         76       6.00   discount  \n",
       "13022               34         35       9.00   discount  \n",
       "13023                0        102       6.00   discount  \n",
       "13024               11         11       9.00   discount  \n",
       "\n",
       "[13025 rows x 11 columns]"
      ]
     },
     "execution_count": 53,
     "metadata": {},
     "output_type": "execute_result"
    }
   ],
   "source": [
    "# I groupped all transactions by customers, offer_id, and max_offer_days\n",
    "desirable_event_per_offer = desirable_event.groupby(['customer_id','offer_id','max_offer_day'], as_index = False).max()\n",
    "\n",
    "# One more condition to be desirable is that a customer should view the offer and purchase the product after received the offer. \n",
    "desirable_event_per_offer_mod = desirable_event_per_offer.query('offer_viewed > 0 & transaction > 0')\n",
    "\n",
    "# Finally, I combined the dataframe with each offer name from offer information dataframe. \n",
    "event_name_df = desirable_event_per_offer_mod.merge(offer_info_df[['offer_id', 'offer_type']],\n",
    "                                                    left_on = 'offer_id', right_on = 'offer_id', how='left')\n",
    "\n",
    "# This dataframe shows the desirably-used offers only.\n",
    "event_name_df "
   ]
  },
  {
   "cell_type": "code",
   "execution_count": 54,
   "metadata": {},
   "outputs": [
    {
     "data": {
      "text/plain": [
       "discount         6468\n",
       "bogo             5370\n",
       "informational    1187\n",
       "Name: offer_type, dtype: int64"
      ]
     },
     "execution_count": 54,
     "metadata": {},
     "output_type": "execute_result"
    }
   ],
   "source": [
    "# The number of desirably-used offer types\n",
    "event_name_df.offer_type.value_counts() "
   ]
  },
  {
   "cell_type": "code",
   "execution_count": 55,
   "metadata": {},
   "outputs": [
    {
     "data": {
      "text/plain": [
       "9042"
      ]
     },
     "execution_count": 55,
     "metadata": {},
     "output_type": "execute_result"
    }
   ],
   "source": [
    "# The unique number of customers who used offers in a desirable way\n",
    "event_name_df.customer_id.nunique()"
   ]
  },
  {
   "cell_type": "markdown",
   "metadata": {},
   "source": [
    "#### Step 5. Comparison\n",
    "The dataframe (event_name_df) is incomplete, since it shows only  desirably-used offers. Now I create a dataframe with all provided offers and then classify whether individual offers are used in a desirable way. "
   ]
  },
  {
   "cell_type": "code",
   "execution_count": 56,
   "metadata": {
    "scrolled": false
   },
   "outputs": [
    {
     "data": {
      "text/html": [
       "<div>\n",
       "<style scoped>\n",
       "    .dataframe tbody tr th:only-of-type {\n",
       "        vertical-align: middle;\n",
       "    }\n",
       "\n",
       "    .dataframe tbody tr th {\n",
       "        vertical-align: top;\n",
       "    }\n",
       "\n",
       "    .dataframe thead th {\n",
       "        text-align: right;\n",
       "    }\n",
       "</style>\n",
       "<table border=\"1\" class=\"dataframe\">\n",
       "  <thead>\n",
       "    <tr style=\"text-align: right;\">\n",
       "      <th></th>\n",
       "      <th>customer_id</th>\n",
       "      <th>days</th>\n",
       "      <th>offer_id</th>\n",
       "      <th>max_offer_day</th>\n",
       "      <th>offer_type</th>\n",
       "    </tr>\n",
       "  </thead>\n",
       "  <tbody>\n",
       "    <tr>\n",
       "      <th>0</th>\n",
       "      <td>0009655768c64bdeb2e877511632db8f</td>\n",
       "      <td>29</td>\n",
       "      <td>5a8bc65990b245e5a138643cd4eb9837</td>\n",
       "      <td>32.00</td>\n",
       "      <td>informational</td>\n",
       "    </tr>\n",
       "    <tr>\n",
       "      <th>1</th>\n",
       "      <td>0009655768c64bdeb2e877511632db8f</td>\n",
       "      <td>57</td>\n",
       "      <td>3f207df678b143eea3cee63160fa8bed</td>\n",
       "      <td>61.00</td>\n",
       "      <td>informational</td>\n",
       "    </tr>\n",
       "    <tr>\n",
       "      <th>2</th>\n",
       "      <td>0009655768c64bdeb2e877511632db8f</td>\n",
       "      <td>69</td>\n",
       "      <td>f19421c1d4aa40978ebb69ca19b0e20d</td>\n",
       "      <td>74.00</td>\n",
       "      <td>bogo</td>\n",
       "    </tr>\n",
       "    <tr>\n",
       "      <th>3</th>\n",
       "      <td>0009655768c64bdeb2e877511632db8f</td>\n",
       "      <td>85</td>\n",
       "      <td>fafdcd668e3743c1bb461111dcafc2a4</td>\n",
       "      <td>95.00</td>\n",
       "      <td>discount</td>\n",
       "    </tr>\n",
       "    <tr>\n",
       "      <th>4</th>\n",
       "      <td>0009655768c64bdeb2e877511632db8f</td>\n",
       "      <td>97</td>\n",
       "      <td>2906b810c7d4411798c6938adc9daaa5</td>\n",
       "      <td>104.00</td>\n",
       "      <td>discount</td>\n",
       "    </tr>\n",
       "    <tr>\n",
       "      <th>...</th>\n",
       "      <td>...</td>\n",
       "      <td>...</td>\n",
       "      <td>...</td>\n",
       "      <td>...</td>\n",
       "      <td>...</td>\n",
       "    </tr>\n",
       "    <tr>\n",
       "      <th>76272</th>\n",
       "      <td>ffff82501cea40309d5fdd7edcca4a07</td>\n",
       "      <td>29</td>\n",
       "      <td>0b1e1539f2cc45b7b9fa7c272da2e1d7</td>\n",
       "      <td>39.00</td>\n",
       "      <td>discount</td>\n",
       "    </tr>\n",
       "    <tr>\n",
       "      <th>76273</th>\n",
       "      <td>ffff82501cea40309d5fdd7edcca4a07</td>\n",
       "      <td>57</td>\n",
       "      <td>2906b810c7d4411798c6938adc9daaa5</td>\n",
       "      <td>64.00</td>\n",
       "      <td>discount</td>\n",
       "    </tr>\n",
       "    <tr>\n",
       "      <th>76274</th>\n",
       "      <td>ffff82501cea40309d5fdd7edcca4a07</td>\n",
       "      <td>69</td>\n",
       "      <td>2906b810c7d4411798c6938adc9daaa5</td>\n",
       "      <td>76.00</td>\n",
       "      <td>discount</td>\n",
       "    </tr>\n",
       "    <tr>\n",
       "      <th>76275</th>\n",
       "      <td>ffff82501cea40309d5fdd7edcca4a07</td>\n",
       "      <td>85</td>\n",
       "      <td>9b98b8c7a33c4b65b9aebfe6a799e6d9</td>\n",
       "      <td>92.00</td>\n",
       "      <td>bogo</td>\n",
       "    </tr>\n",
       "    <tr>\n",
       "      <th>76276</th>\n",
       "      <td>ffff82501cea40309d5fdd7edcca4a07</td>\n",
       "      <td>97</td>\n",
       "      <td>2906b810c7d4411798c6938adc9daaa5</td>\n",
       "      <td>104.00</td>\n",
       "      <td>discount</td>\n",
       "    </tr>\n",
       "  </tbody>\n",
       "</table>\n",
       "<p>76277 rows × 5 columns</p>\n",
       "</div>"
      ],
      "text/plain": [
       "                            customer_id  days  \\\n",
       "0      0009655768c64bdeb2e877511632db8f    29   \n",
       "1      0009655768c64bdeb2e877511632db8f    57   \n",
       "2      0009655768c64bdeb2e877511632db8f    69   \n",
       "3      0009655768c64bdeb2e877511632db8f    85   \n",
       "4      0009655768c64bdeb2e877511632db8f    97   \n",
       "...                                 ...   ...   \n",
       "76272  ffff82501cea40309d5fdd7edcca4a07    29   \n",
       "76273  ffff82501cea40309d5fdd7edcca4a07    57   \n",
       "76274  ffff82501cea40309d5fdd7edcca4a07    69   \n",
       "76275  ffff82501cea40309d5fdd7edcca4a07    85   \n",
       "76276  ffff82501cea40309d5fdd7edcca4a07    97   \n",
       "\n",
       "                               offer_id  max_offer_day     offer_type  \n",
       "0      5a8bc65990b245e5a138643cd4eb9837          32.00  informational  \n",
       "1      3f207df678b143eea3cee63160fa8bed          61.00  informational  \n",
       "2      f19421c1d4aa40978ebb69ca19b0e20d          74.00           bogo  \n",
       "3      fafdcd668e3743c1bb461111dcafc2a4          95.00       discount  \n",
       "4      2906b810c7d4411798c6938adc9daaa5         104.00       discount  \n",
       "...                                 ...            ...            ...  \n",
       "76272  0b1e1539f2cc45b7b9fa7c272da2e1d7          39.00       discount  \n",
       "76273  2906b810c7d4411798c6938adc9daaa5          64.00       discount  \n",
       "76274  2906b810c7d4411798c6938adc9daaa5          76.00       discount  \n",
       "76275  9b98b8c7a33c4b65b9aebfe6a799e6d9          92.00           bogo  \n",
       "76276  2906b810c7d4411798c6938adc9daaa5         104.00       discount  \n",
       "\n",
       "[76277 rows x 5 columns]"
      ]
     },
     "execution_count": 56,
     "metadata": {},
     "output_type": "execute_result"
    }
   ],
   "source": [
    "# From a previous dataframe, I filtered the data points with 'offer_received' event\n",
    "offers_received_mod = trans_per_pp_days_offer_v1.query('offer_received > 0')[['customer_id','days','offer_id','max_offer_day']]\n",
    "\n",
    "# Then I combined\n",
    "total_offers = offers_received_mod.merge(offers_received[['customer_id','days','offer_id','offer_type']], \n",
    "                                        left_on = ['customer_id','days','offer_id'],\n",
    "                                        right_on = ['customer_id','days','offer_id'],\n",
    "                                        how='left')\n",
    "\n",
    "total_offers"
   ]
  },
  {
   "cell_type": "code",
   "execution_count": 57,
   "metadata": {},
   "outputs": [],
   "source": [
    "total_issued_bogo = total_offers.query('offer_type ==\"bogo\"')\n",
    "total_issued_disc = total_offers.query('offer_type ==\"discount\"')\n",
    "total_issued_info = total_offers.query('offer_type ==\"informational\"')"
   ]
  },
  {
   "cell_type": "code",
   "execution_count": 58,
   "metadata": {
    "scrolled": true
   },
   "outputs": [
    {
     "data": {
      "text/plain": [
       "((30499, 5), (30543, 5), (15235, 5))"
      ]
     },
     "execution_count": 58,
     "metadata": {},
     "output_type": "execute_result"
    }
   ],
   "source": [
    "total_issued_bogo.shape, total_issued_disc.shape, total_issued_info.shape"
   ]
  },
  {
   "cell_type": "code",
   "execution_count": 59,
   "metadata": {},
   "outputs": [],
   "source": [
    "def Classification_of_offers(total_offers, desirable_offer_df): \n",
    "    \n",
    "    desirable_offer_df['desirable_use'] = 'desirable'\n",
    "    total_offers_final = total_offers.merge(desirable_offer_df[['customer_id','offer_id','max_offer_day','desirable_use']],\n",
    "                      left_on = ['customer_id','max_offer_day','offer_id'],\n",
    "                      right_on =['customer_id','max_offer_day','offer_id'],\n",
    "                      how = 'left')\n",
    "    total_offers_final= total_offers_final.fillna('non-desirable')\n",
    "    \n",
    "    return total_offers_final"
   ]
  },
  {
   "cell_type": "code",
   "execution_count": 60,
   "metadata": {},
   "outputs": [
    {
     "data": {
      "text/html": [
       "<div>\n",
       "<style scoped>\n",
       "    .dataframe tbody tr th:only-of-type {\n",
       "        vertical-align: middle;\n",
       "    }\n",
       "\n",
       "    .dataframe tbody tr th {\n",
       "        vertical-align: top;\n",
       "    }\n",
       "\n",
       "    .dataframe thead th {\n",
       "        text-align: right;\n",
       "    }\n",
       "</style>\n",
       "<table border=\"1\" class=\"dataframe\">\n",
       "  <thead>\n",
       "    <tr style=\"text-align: right;\">\n",
       "      <th></th>\n",
       "      <th>customer_id</th>\n",
       "      <th>days</th>\n",
       "      <th>offer_id</th>\n",
       "      <th>max_offer_day</th>\n",
       "      <th>offer_type</th>\n",
       "      <th>desirable_use</th>\n",
       "    </tr>\n",
       "  </thead>\n",
       "  <tbody>\n",
       "    <tr>\n",
       "      <th>0</th>\n",
       "      <td>0009655768c64bdeb2e877511632db8f</td>\n",
       "      <td>29</td>\n",
       "      <td>5a8bc65990b245e5a138643cd4eb9837</td>\n",
       "      <td>32.00</td>\n",
       "      <td>informational</td>\n",
       "      <td>non-desirable</td>\n",
       "    </tr>\n",
       "    <tr>\n",
       "      <th>1</th>\n",
       "      <td>0009655768c64bdeb2e877511632db8f</td>\n",
       "      <td>57</td>\n",
       "      <td>3f207df678b143eea3cee63160fa8bed</td>\n",
       "      <td>61.00</td>\n",
       "      <td>informational</td>\n",
       "      <td>non-desirable</td>\n",
       "    </tr>\n",
       "    <tr>\n",
       "      <th>2</th>\n",
       "      <td>0009655768c64bdeb2e877511632db8f</td>\n",
       "      <td>69</td>\n",
       "      <td>f19421c1d4aa40978ebb69ca19b0e20d</td>\n",
       "      <td>74.00</td>\n",
       "      <td>bogo</td>\n",
       "      <td>non-desirable</td>\n",
       "    </tr>\n",
       "    <tr>\n",
       "      <th>3</th>\n",
       "      <td>0009655768c64bdeb2e877511632db8f</td>\n",
       "      <td>85</td>\n",
       "      <td>fafdcd668e3743c1bb461111dcafc2a4</td>\n",
       "      <td>95.00</td>\n",
       "      <td>discount</td>\n",
       "      <td>desirable</td>\n",
       "    </tr>\n",
       "    <tr>\n",
       "      <th>4</th>\n",
       "      <td>0009655768c64bdeb2e877511632db8f</td>\n",
       "      <td>97</td>\n",
       "      <td>2906b810c7d4411798c6938adc9daaa5</td>\n",
       "      <td>104.00</td>\n",
       "      <td>discount</td>\n",
       "      <td>non-desirable</td>\n",
       "    </tr>\n",
       "    <tr>\n",
       "      <th>...</th>\n",
       "      <td>...</td>\n",
       "      <td>...</td>\n",
       "      <td>...</td>\n",
       "      <td>...</td>\n",
       "      <td>...</td>\n",
       "      <td>...</td>\n",
       "    </tr>\n",
       "    <tr>\n",
       "      <th>76272</th>\n",
       "      <td>ffff82501cea40309d5fdd7edcca4a07</td>\n",
       "      <td>29</td>\n",
       "      <td>0b1e1539f2cc45b7b9fa7c272da2e1d7</td>\n",
       "      <td>39.00</td>\n",
       "      <td>discount</td>\n",
       "      <td>desirable</td>\n",
       "    </tr>\n",
       "    <tr>\n",
       "      <th>76273</th>\n",
       "      <td>ffff82501cea40309d5fdd7edcca4a07</td>\n",
       "      <td>57</td>\n",
       "      <td>2906b810c7d4411798c6938adc9daaa5</td>\n",
       "      <td>64.00</td>\n",
       "      <td>discount</td>\n",
       "      <td>non-desirable</td>\n",
       "    </tr>\n",
       "    <tr>\n",
       "      <th>76274</th>\n",
       "      <td>ffff82501cea40309d5fdd7edcca4a07</td>\n",
       "      <td>69</td>\n",
       "      <td>2906b810c7d4411798c6938adc9daaa5</td>\n",
       "      <td>76.00</td>\n",
       "      <td>discount</td>\n",
       "      <td>non-desirable</td>\n",
       "    </tr>\n",
       "    <tr>\n",
       "      <th>76275</th>\n",
       "      <td>ffff82501cea40309d5fdd7edcca4a07</td>\n",
       "      <td>85</td>\n",
       "      <td>9b98b8c7a33c4b65b9aebfe6a799e6d9</td>\n",
       "      <td>92.00</td>\n",
       "      <td>bogo</td>\n",
       "      <td>non-desirable</td>\n",
       "    </tr>\n",
       "    <tr>\n",
       "      <th>76276</th>\n",
       "      <td>ffff82501cea40309d5fdd7edcca4a07</td>\n",
       "      <td>97</td>\n",
       "      <td>2906b810c7d4411798c6938adc9daaa5</td>\n",
       "      <td>104.00</td>\n",
       "      <td>discount</td>\n",
       "      <td>desirable</td>\n",
       "    </tr>\n",
       "  </tbody>\n",
       "</table>\n",
       "<p>76277 rows × 6 columns</p>\n",
       "</div>"
      ],
      "text/plain": [
       "                            customer_id  days  \\\n",
       "0      0009655768c64bdeb2e877511632db8f    29   \n",
       "1      0009655768c64bdeb2e877511632db8f    57   \n",
       "2      0009655768c64bdeb2e877511632db8f    69   \n",
       "3      0009655768c64bdeb2e877511632db8f    85   \n",
       "4      0009655768c64bdeb2e877511632db8f    97   \n",
       "...                                 ...   ...   \n",
       "76272  ffff82501cea40309d5fdd7edcca4a07    29   \n",
       "76273  ffff82501cea40309d5fdd7edcca4a07    57   \n",
       "76274  ffff82501cea40309d5fdd7edcca4a07    69   \n",
       "76275  ffff82501cea40309d5fdd7edcca4a07    85   \n",
       "76276  ffff82501cea40309d5fdd7edcca4a07    97   \n",
       "\n",
       "                               offer_id  max_offer_day     offer_type  \\\n",
       "0      5a8bc65990b245e5a138643cd4eb9837          32.00  informational   \n",
       "1      3f207df678b143eea3cee63160fa8bed          61.00  informational   \n",
       "2      f19421c1d4aa40978ebb69ca19b0e20d          74.00           bogo   \n",
       "3      fafdcd668e3743c1bb461111dcafc2a4          95.00       discount   \n",
       "4      2906b810c7d4411798c6938adc9daaa5         104.00       discount   \n",
       "...                                 ...            ...            ...   \n",
       "76272  0b1e1539f2cc45b7b9fa7c272da2e1d7          39.00       discount   \n",
       "76273  2906b810c7d4411798c6938adc9daaa5          64.00       discount   \n",
       "76274  2906b810c7d4411798c6938adc9daaa5          76.00       discount   \n",
       "76275  9b98b8c7a33c4b65b9aebfe6a799e6d9          92.00           bogo   \n",
       "76276  2906b810c7d4411798c6938adc9daaa5         104.00       discount   \n",
       "\n",
       "       desirable_use  \n",
       "0      non-desirable  \n",
       "1      non-desirable  \n",
       "2      non-desirable  \n",
       "3          desirable  \n",
       "4      non-desirable  \n",
       "...              ...  \n",
       "76272      desirable  \n",
       "76273  non-desirable  \n",
       "76274  non-desirable  \n",
       "76275  non-desirable  \n",
       "76276      desirable  \n",
       "\n",
       "[76277 rows x 6 columns]"
      ]
     },
     "execution_count": 60,
     "metadata": {},
     "output_type": "execute_result"
    }
   ],
   "source": [
    "Classification_of_offers(total_offers, event_name_df)"
   ]
  },
  {
   "cell_type": "code",
   "execution_count": 61,
   "metadata": {},
   "outputs": [],
   "source": [
    "total_issued_bogo = Classification_of_offers(total_offers, event_name_df).query('offer_type ==\"bogo\"')\n",
    "total_issued_disc = Classification_of_offers(total_offers, event_name_df).query('offer_type ==\"discount\"')\n",
    "total_issued_info = Classification_of_offers(total_offers, event_name_df).query('offer_type ==\"informational\"')"
   ]
  },
  {
   "cell_type": "code",
   "execution_count": 62,
   "metadata": {},
   "outputs": [
    {
     "name": "stdout",
     "output_type": "stream",
     "text": [
      "BOGO Offer:\n",
      "non-desirable    25129\n",
      "desirable         5370\n",
      "Name: desirable_use, dtype: int64\n",
      " \n",
      "Discount Offer:\n",
      "non-desirable    24075\n",
      "desirable         6468\n",
      "Name: desirable_use, dtype: int64\n",
      " \n",
      "Informational Offer:\n",
      "non-desirable    14048\n",
      "desirable         1187\n",
      "Name: desirable_use, dtype: int64\n"
     ]
    }
   ],
   "source": [
    "print('BOGO Offer:' )\n",
    "print(total_issued_bogo.desirable_use.value_counts())\n",
    "print(' ')\n",
    "print('Discount Offer:' )\n",
    "print(total_issued_disc.desirable_use.value_counts())\n",
    "print(' ')\n",
    "print('Informational Offer:' )\n",
    "print(total_issued_info.desirable_use.value_counts())"
   ]
  },
  {
   "cell_type": "markdown",
   "metadata": {},
   "source": [
    "### Data Exportation "
   ]
  },
  {
   "cell_type": "code",
   "execution_count": 63,
   "metadata": {},
   "outputs": [],
   "source": [
    "# Export the datasets for the second part of analysis\n",
    "Classification_of_offers(total_offers, event_name_df).to_csv('total_issued_offer.csv', index=False)\n",
    "rfm_df.to_csv('rfm_score.csv', index=False)\n",
    "customer_info_df.to_csv('customer_df.csv', index=False)"
   ]
  },
  {
   "cell_type": "markdown",
   "metadata": {},
   "source": [
    "# Data Preparation from above"
   ]
  },
  {
   "cell_type": "code",
   "execution_count": 64,
   "metadata": {},
   "outputs": [],
   "source": [
    "# Read in the csv files\n",
    "offer_df = pd.read_csv('total_issued_offer.csv')\n",
    "customer_df = pd.read_csv('customer_df.csv')\n",
    "rfm_df = pd.read_csv('rfm_score.csv')"
   ]
  },
  {
   "cell_type": "code",
   "execution_count": 65,
   "metadata": {},
   "outputs": [],
   "source": [
    "# Merge all the datasets\n",
    "customer_offer_df_mod = offer_df.merge(customer_df, left_on = 'customer_id', right_on ='customer_id', how='left')\n",
    "customer_offer_df =customer_offer_df_mod.merge(rfm_df, left_on = 'customer_id', right_on ='customer_id', how='left').fillna(0)"
   ]
  },
  {
   "cell_type": "code",
   "execution_count": 66,
   "metadata": {},
   "outputs": [
    {
     "name": "stdout",
     "output_type": "stream",
     "text": [
      "<class 'pandas.core.frame.DataFrame'>\n",
      "Int64Index: 76277 entries, 0 to 76276\n",
      "Data columns (total 14 columns):\n",
      " #   Column            Non-Null Count  Dtype  \n",
      "---  ------            --------------  -----  \n",
      " 0   customer_id       76277 non-null  object \n",
      " 1   days              76277 non-null  int64  \n",
      " 2   offer_id          76277 non-null  object \n",
      " 3   max_offer_day     76277 non-null  float64\n",
      " 4   offer_type        76277 non-null  object \n",
      " 5   desirable_use     76277 non-null  object \n",
      " 6   gender            76277 non-null  object \n",
      " 7   age               76277 non-null  int64  \n",
      " 8   became_member_on  76277 non-null  object \n",
      " 9   income            76277 non-null  float64\n",
      " 10  days_as_member    76277 non-null  int64  \n",
      " 11  recency           76277 non-null  float64\n",
      " 12  frequency         76277 non-null  float64\n",
      " 13  monetary          76277 non-null  float64\n",
      "dtypes: float64(5), int64(3), object(6)\n",
      "memory usage: 8.7+ MB\n"
     ]
    }
   ],
   "source": [
    "customer_offer_df.info()"
   ]
  },
  {
   "cell_type": "code",
   "execution_count": 67,
   "metadata": {},
   "outputs": [],
   "source": [
    "# Drop the unnecessary features \n",
    "customer_offer_df.drop(['became_member_on','days','max_offer_day','offer_id'],axis =1, inplace= True)"
   ]
  },
  {
   "cell_type": "code",
   "execution_count": 68,
   "metadata": {},
   "outputs": [],
   "source": [
    "total_issued_bogo = customer_offer_df.query('offer_type ==\"bogo\"')\n",
    "total_issued_disc = customer_offer_df.query('offer_type ==\"discount\"')\n",
    "total_issued_info = customer_offer_df.query('offer_type ==\"informational\"')"
   ]
  },
  {
   "cell_type": "markdown",
   "metadata": {},
   "source": [
    "# Characteristics of the Dataset\n"
   ]
  },
  {
   "cell_type": "markdown",
   "metadata": {},
   "source": [
    "# 1. Imbalanced Data "
   ]
  },
  {
   "cell_type": "code",
   "execution_count": 69,
   "metadata": {},
   "outputs": [
    {
     "name": "stdout",
     "output_type": "stream",
     "text": [
      "BOGO Offer:\n",
      "non-desirable    25129\n",
      "desirable         5370\n",
      "Name: desirable_use, dtype: int64\n",
      " \n",
      "Discount Offer:\n",
      "non-desirable    24075\n",
      "desirable         6468\n",
      "Name: desirable_use, dtype: int64\n",
      " \n",
      "Informational Offer:\n",
      "non-desirable    14048\n",
      "desirable         1187\n",
      "Name: desirable_use, dtype: int64\n"
     ]
    }
   ],
   "source": [
    "print('BOGO Offer:' )\n",
    "print(total_issued_bogo.desirable_use.value_counts())\n",
    "print(' ')\n",
    "print('Discount Offer:' )\n",
    "print(total_issued_disc.desirable_use.value_counts())\n",
    "print(' ')\n",
    "print('Informational Offer:' )\n",
    "print(total_issued_info.desirable_use.value_counts())"
   ]
  },
  {
   "cell_type": "code",
   "execution_count": 70,
   "metadata": {},
   "outputs": [
    {
     "data": {
      "text/plain": [
       "<AxesSubplot:xlabel='offer_type', ylabel='count'>"
      ]
     },
     "execution_count": 70,
     "metadata": {},
     "output_type": "execute_result"
    },
    {
     "data": {
      "image/png": "[encoded data removed]",
      "text/plain": [
       "<Figure size 432x288 with 1 Axes>"
      ]
     },
     "metadata": {},
     "output_type": "display_data"
    }
   ],
   "source": [
    "offer_order =['bogo', 'discount','informational']\n",
    "sns.countplot(data= customer_offer_df, x= 'offer_type', hue = 'desirable_use', order = offer_order)"
   ]
  },
  {
   "cell_type": "markdown",
   "metadata": {},
   "source": [
    "> The size of 'informational' offer class is very low. It consist of 9,86% of all datapoints only. \n",
    "[Reference - Imbalanced Data](https://www.analyticsvidhya.com/blog/2017/03/imbalanced-data-classification/)"
   ]
  },
  {
   "cell_type": "markdown",
   "metadata": {},
   "source": [
    "# 2. Classification Feature Selection"
   ]
  },
  {
   "cell_type": "markdown",
   "metadata": {},
   "source": [
    "Running the example first creates the regression dataset, then defines the feature selection and applies the feature selection procedure to the dataset, returning a subset of the selected input features. Reference - Feature Selection"
   ]
  },
  {
   "cell_type": "code",
   "execution_count": 71,
   "metadata": {},
   "outputs": [],
   "source": [
    "# Import necessary libraries \n",
    "from sklearn.feature_selection import f_classif\n",
    "\n",
    "# chi-squared test with similar proportions\n",
    "from scipy.stats import chi2_contingency\n",
    "from scipy.stats import chi2"
   ]
  },
  {
   "cell_type": "code",
   "execution_count": 72,
   "metadata": {},
   "outputs": [],
   "source": [
    "def Feature_selection(offer_df):\n",
    "    \n",
    "    # Target variable: 'desirable_use'\n",
    "    categorical_target = offer_df.desirable_use\n",
    "    \n",
    "    selected_inputs = []\n",
    "    \n",
    "    # Numerical Inputs Selection \n",
    "    numerical_inputs = offer_df.drop(['customer_id','desirable_use','gender','offer_type'], axis =1)\n",
    "    \n",
    "    anova_test = f_classif(numerical_inputs, categorical_target)\n",
    "    \n",
    "    prob = 0.95\n",
    "    alpha = 1.0 - prob\n",
    "    \n",
    "    for i in range(len(anova_test[1])):\n",
    "        if anova_test[1][i] < alpha:\n",
    "            selected_inputs.append(numerical_inputs.columns[i])\n",
    "    \n",
    "    # Categorical Inputs Selection \n",
    "    categorical_input = offer_df['gender']\n",
    "    gender_df = pd.get_dummies(offer_df.gender, prefix = 'gender', prefix_sep = '_')\n",
    "    gender_df['desirable_use'], gender_df['customer_id'] = offer_df['desirable_use'], offer_df['customer_id']\n",
    "    \n",
    "    contingency_table = gender_df.groupby(['desirable_use'], as_index = True).sum()\n",
    "    stat, p, dof, expected = chi2_contingency(contingency_table.values)\n",
    "       \n",
    "    if p <= alpha:\n",
    "        selected_inputs.append('gender')\n",
    "\n",
    "        \n",
    "    return offer_df[selected_inputs]\n"
   ]
  },
  {
   "cell_type": "code",
   "execution_count": 73,
   "metadata": {},
   "outputs": [],
   "source": [
    "bogo_df = Feature_selection(total_issued_bogo)\n",
    "discount_df = Feature_selection(total_issued_disc)\n",
    "informational_df = Feature_selection(total_issued_info)"
   ]
  },
  {
   "cell_type": "markdown",
   "metadata": {},
   "source": [
    "# 4. Data Analysis\n",
    " \n",
    " 4.2. Data Spliting\n",
    " \n",
    " 4.3. Data Balancing\n",
    " \n",
    " 4.4. Model Comparison\n",
    " \n",
    " 4.5. Model Evaluation\n",
    " \n",
    " 4.6. Model Selection"
   ]
  },
  {
   "cell_type": "markdown",
   "metadata": {},
   "source": [
    "# 4. 2. Data Spliting"
   ]
  },
  {
   "cell_type": "code",
   "execution_count": 74,
   "metadata": {},
   "outputs": [],
   "source": [
    "from sklearn.model_selection import train_test_split\n",
    "\n",
    "\n",
    "test_size = 0.2\n",
    "random_state = 42\n",
    "\n",
    "bogo_target= total_issued_bogo.desirable_use\n",
    "disc_target= total_issued_disc.desirable_use\n",
    "info_target= total_issued_info.desirable_use"
   ]
  },
  {
   "cell_type": "markdown",
   "metadata": {},
   "source": [
    "# Train & Test Data"
   ]
  },
  {
   "cell_type": "code",
   "execution_count": 75,
   "metadata": {},
   "outputs": [],
   "source": [
    "# Bogo\n",
    "bogo_trainX, bogo_testX, bogo_trainy, bogo_testy = train_test_split(bogo_df, bogo_target, \n",
    "                                                                  test_size=test_size, random_state=random_state)\n",
    "# Discount\n",
    "disc_trainX, disc_testX, disc_trainy, disc_testy = train_test_split(discount_df, disc_target, \n",
    "                                                                    test_size=test_size, random_state=random_state)\n",
    "# Informational\n",
    "info_trainX, info_testX, info_trainy, info_testy = train_test_split(informational_df, info_target, \n",
    "                                                                    test_size=test_size, random_state=random_state)"
   ]
  },
  {
   "cell_type": "markdown",
   "metadata": {},
   "source": [
    "# 4. 3. Data Balancing"
   ]
  },
  {
   "cell_type": "code",
   "execution_count": 76,
   "metadata": {},
   "outputs": [
    {
     "name": "stdout",
     "output_type": "stream",
     "text": [
      "0.7.0\n"
     ]
    }
   ],
   "source": [
    "# check version number\n",
    "import imblearn\n",
    "print(imblearn.__version__)\n",
    "\n",
    "# Import necessary libraries \n",
    "from imblearn.over_sampling import SMOTE\n",
    "from collections import Counter"
   ]
  },
  {
   "cell_type": "code",
   "execution_count": 77,
   "metadata": {},
   "outputs": [
    {
     "name": "stdout",
     "output_type": "stream",
     "text": [
      "         BOGO Training Data:  Counter({'non-desirable': 20108, 'desirable': 4291})\n",
      "     Discount Training Data:  Counter({'non-desirable': 19243, 'desirable': 5191})\n",
      "Informational Training Data:  Counter({'non-desirable': 11244, 'desirable': 944})\n"
     ]
    }
   ],
   "source": [
    "import collections\n",
    "print('         BOGO Training Data: ',collections.Counter(bogo_trainy) )\n",
    "print('     Discount Training Data: ',collections.Counter(disc_trainy) )\n",
    "print('Informational Training Data: ',collections.Counter(info_trainy) )"
   ]
  },
  {
   "cell_type": "code",
   "execution_count": 78,
   "metadata": {},
   "outputs": [],
   "source": [
    "def Balancing_Data(X_train, y_train): \n",
    "    \n",
    "    # Decide how many the minority class should be oversampled \n",
    "    \n",
    "    nondes_train = int(collections.Counter(y_train)['non-desirable'])\n",
    "    # des_train = int(collections.Counter(y_train)['desirable']*4)\n",
    "    des_train = int(nondes_train*0.7)\n",
    "    \n",
    "    # Transform the dataset\n",
    "    strategy = { 'non-desirable':nondes_train, 'desirable':des_train}\n",
    "    oversample = SMOTE(sampling_strategy=strategy)\n",
    "    \n",
    "    # Balanced dataset \n",
    "    X_balanced, y_balanced = oversample.fit_resample( X_train, y_train)\n",
    "    \n",
    "    # Summarize newly balanced Distribution\n",
    "    counter = Counter(y_balanced)\n",
    "    for k,v in counter.items():\n",
    "        per = v / len(y_balanced) * 100\n",
    "        print('Class=%s, n=%d (%.3f%%)' % (k, v, per))\n",
    "        \n",
    "    # Plot the distribution\n",
    "    plt.bar(counter.keys(), counter.values())\n",
    "    plt.show()\n",
    "    \n",
    "    balanced_train = pd.concat([X_balanced, y_balanced],axis=1)\n",
    "    \n",
    "    return balanced_train\n",
    "    "
   ]
  },
  {
   "cell_type": "code",
   "execution_count": 79,
   "metadata": {},
   "outputs": [
    {
     "name": "stdout",
     "output_type": "stream",
     "text": [
      "Class=non-desirable, n=20108 (58.825%)\n",
      "Class=desirable, n=14075 (41.175%)\n"
     ]
    },
    {
     "data": {
      "image/png": "[encoded data removed]",
      "text/plain": [
       "<Figure size 432x288 with 1 Axes>"
      ]
     },
     "metadata": {},
     "output_type": "display_data"
    },
    {
     "name": "stdout",
     "output_type": "stream",
     "text": [
      "Class=non-desirable, n=19243 (58.824%)\n",
      "Class=desirable, n=13470 (41.176%)\n"
     ]
    },
    {
     "data": {
      "image/png": "[encoded data removed]",
      "text/plain": [
       "<Figure size 432x288 with 1 Axes>"
      ]
     },
     "metadata": {},
     "output_type": "display_data"
    },
    {
     "name": "stdout",
     "output_type": "stream",
     "text": [
      "Class=desirable, n=7870 (41.174%)\n",
      "Class=non-desirable, n=11244 (58.826%)\n"
     ]
    },
    {
     "data": {
      "image/png": "[encoded data removed]",
      "text/plain": [
       "<Figure size 432x288 with 1 Axes>"
      ]
     },
     "metadata": {},
     "output_type": "display_data"
    }
   ],
   "source": [
    "balanced_bogo = Balancing_Data(bogo_trainX, bogo_trainy)\n",
    "balanced_disc = Balancing_Data(disc_trainX, disc_trainy)\n",
    "balanced_info = Balancing_Data(info_trainX, info_trainy)"
   ]
  },
  {
   "cell_type": "markdown",
   "metadata": {},
   "source": [
    "# 4. 4. Model Comparison\n",
    "\n",
    "Sklearn Ensemble Methods (Random Forest, AdaBoost, GradientBoost)\n",
    "\n",
    "XGBoost vs. LightGBM vs. CatBoost\n",
    "\n",
    "LogisticRegression"
   ]
  },
  {
   "cell_type": "code",
   "execution_count": 80,
   "metadata": {},
   "outputs": [],
   "source": [
    "# Import necessary libraries \n",
    "# 1. Sklearn Ensemble Methods\n",
    "from sklearn.tree import DecisionTreeClassifier\n",
    "from sklearn.ensemble import (RandomForestClassifier, AdaBoostClassifier, GradientBoostingClassifier) \n",
    "\n",
    "# 2. XG Boost vs. Light GBM vs. CatBoost\n",
    "import xgboost as xgb # XG Boost \n",
    "import lightgbm as lgbm # Light GBM\n",
    "import catboost as cb # CatBoost\n",
    "\n",
    "# 3. A Benchmark Model\n",
    "from sklearn.linear_model import LogisticRegression \n",
    "\n",
    "# Evaluation tools \n",
    "from sklearn import metrics\n",
    "from sklearn.metrics import precision_score \n",
    "from sklearn.metrics import recall_score \n",
    "\n",
    "from time import time # To measure execution time of the model "
   ]
  },
  {
   "cell_type": "markdown",
   "metadata": {},
   "source": [
    "# Set up the models "
   ]
  },
  {
   "cell_type": "code",
   "execution_count": 81,
   "metadata": {},
   "outputs": [],
   "source": [
    "# 1. Sklearn Ensemble Methods\n",
    "rf = RandomForestClassifier(n_estimators=500, max_features=0.06, n_jobs=6, class_weight = 'balanced', \n",
    "                            verbose = 0, random_state=42)\n",
    "\n",
    "base_estim = DecisionTreeClassifier(max_depth=1, max_features=0.06)                            \n",
    "ab = AdaBoostClassifier(base_estimator=base_estim, n_estimators=500, learning_rate=0.5, random_state=42)\n",
    "\n",
    "gbm = GradientBoostingClassifier(n_estimators=2000, subsample=0.75, max_features=0.06, verbose = 0,  validation_fraction=0.1, random_state=42)"
   ]
  },
  {
   "cell_type": "code",
   "execution_count": 82,
   "metadata": {},
   "outputs": [],
   "source": [
    "# 2. XG Boost vs. Light GBM vs. CatBoost\n",
    "xgb = xgb.XGBClassifier(n_estimators=2000, tree_method='hist', subsample=0.75, \n",
    "                        objective = 'binary:logistic', n_jobs=6, random_state=42)\n",
    "\n",
    "lgbm = lgbm.LGBMClassifier(n_estimators=2000, n_jobs=6, random_state=42)\n",
    "                          \n",
    "\n",
    "cb =  cb.CatBoostClassifier(n_estimators=2000, colsample_bylevel=0.06, max_leaves=31, subsample=0.75, \n",
    "                            thread_count=6, verbose = 0, random_state=42)"
   ]
  },
  {
   "cell_type": "code",
   "execution_count": 83,
   "metadata": {},
   "outputs": [],
   "source": [
    "# 3. A Benchmark Model\n",
    "logreg = LogisticRegression(random_state=42, class_weight = 'balanced')"
   ]
  },
  {
   "cell_type": "code",
   "execution_count": 84,
   "metadata": {},
   "outputs": [],
   "source": [
    "models = [logreg, rf, ab, gbm, xgb, lgbm, cb]\n",
    "model_names = [i.__class__.__name__ for i in models]\n",
    "es_models = ['XGBClassifier', 'LGBMClassifier', 'CatBoostClassifier']"
   ]
  },
  {
   "cell_type": "markdown",
   "metadata": {},
   "source": [
    "# Train and Evaluate the models "
   ]
  },
  {
   "cell_type": "code",
   "execution_count": 85,
   "metadata": {},
   "outputs": [],
   "source": [
    "def Train_Evaluate_Models(balanced_df, test_inputs, test_target):\n",
    "    \n",
    "    # Identify target and inputs variables\n",
    "    balanced_target= balanced_df.desirable_use\n",
    "    balanced_inputs= balanced_df.drop(['desirable_use'], axis=1)\n",
    "    \n",
    "    # Create a validation sample from balanced training data \n",
    "    trainX_sub, trainX_valid, trainy_sub, trainy_valid = train_test_split(balanced_inputs, balanced_target, test_size=0.1)\n",
    "    \n",
    "    # Set up a dataframe to contain the results\n",
    "    results = pd.DataFrame(columns=['accuracy','prediction','recall','f1_score', 'run_time'])  \n",
    "    \n",
    "    # Training the models \n",
    "    for m, n in zip(models, model_names):\n",
    "    \n",
    "        start_time = time()\n",
    "        if n in es_models:\n",
    "            m.fit(trainX_sub, trainy_sub,\n",
    "                  eval_set = [(trainX_valid, trainy_valid)], \n",
    "                  early_stopping_rounds=15, verbose=0)\n",
    "        else:\n",
    "            m.fit(balanced_inputs, balanced_target)\n",
    "    \n",
    "        run_time = time() - start_time\n",
    "\n",
    "        y_pred = m.predict(test_inputs)\n",
    "        accuracy = np.mean( y_pred == test_target)\n",
    "        precision = precision_score(test_target, y_pred, average= 'weighted', zero_division=0)\n",
    "        recall = recall_score(test_target, y_pred, average= 'weighted', zero_division=0)\n",
    "        f1_score = 2 * (precision * recall) / (precision + recall)\n",
    "\n",
    "        results.loc[n] = [accuracy,precision, recall, f1_score, run_time]\n",
    "\n",
    "        del m\n",
    "    \n",
    "    return results\n",
    "    "
   ]
  },
  {
   "cell_type": "code",
   "execution_count": 86,
   "metadata": {},
   "outputs": [
    {
     "name": "stderr",
     "output_type": "stream",
     "text": [
      "/Library/Frameworks/Python.framework/Versions/3.9/lib/python3.9/site-packages/xgboost/sklearn.py:888: UserWarning: The use of label encoder in XGBClassifier is deprecated and will be removed in a future release. To remove this warning, do the following: 1) Pass option use_label_encoder=False when constructing XGBClassifier object; and 2) Encode your labels (y) as integers starting with 0, i.e. 0, 1, 2, ..., [num_class - 1].\n",
      "  warnings.warn(label_encoder_deprecation_msg, UserWarning)\n"
     ]
    },
    {
     "name": "stdout",
     "output_type": "stream",
     "text": [
      "[22:25:29] WARNING: /Users/travis/build/dmlc/xgboost/src/learner.cc:1061: Starting in XGBoost 1.3.0, the default evaluation metric used with the objective 'binary:logistic' was changed from 'error' to 'logloss'. Explicitly set eval_metric if you'd like to restore the old behavior.\n"
     ]
    },
    {
     "data": {
      "text/html": [
       "<div>\n",
       "<style scoped>\n",
       "    .dataframe tbody tr th:only-of-type {\n",
       "        vertical-align: middle;\n",
       "    }\n",
       "\n",
       "    .dataframe tbody tr th {\n",
       "        vertical-align: top;\n",
       "    }\n",
       "\n",
       "    .dataframe thead th {\n",
       "        text-align: right;\n",
       "    }\n",
       "</style>\n",
       "<table border=\"1\" class=\"dataframe\">\n",
       "  <thead>\n",
       "    <tr style=\"text-align: right;\">\n",
       "      <th></th>\n",
       "      <th>accuracy</th>\n",
       "      <th>prediction</th>\n",
       "      <th>recall</th>\n",
       "      <th>f1_score</th>\n",
       "      <th>run_time</th>\n",
       "    </tr>\n",
       "  </thead>\n",
       "  <tbody>\n",
       "    <tr>\n",
       "      <th>LogisticRegression</th>\n",
       "      <td>0.65</td>\n",
       "      <td>0.78</td>\n",
       "      <td>0.65</td>\n",
       "      <td>0.71</td>\n",
       "      <td>0.37</td>\n",
       "    </tr>\n",
       "    <tr>\n",
       "      <th>RandomForestClassifier</th>\n",
       "      <td>0.72</td>\n",
       "      <td>0.73</td>\n",
       "      <td>0.72</td>\n",
       "      <td>0.73</td>\n",
       "      <td>9.08</td>\n",
       "    </tr>\n",
       "    <tr>\n",
       "      <th>AdaBoostClassifier</th>\n",
       "      <td>0.72</td>\n",
       "      <td>0.77</td>\n",
       "      <td>0.72</td>\n",
       "      <td>0.74</td>\n",
       "      <td>37.37</td>\n",
       "    </tr>\n",
       "    <tr>\n",
       "      <th>GradientBoostingClassifier</th>\n",
       "      <td>0.80</td>\n",
       "      <td>0.73</td>\n",
       "      <td>0.80</td>\n",
       "      <td>0.77</td>\n",
       "      <td>33.06</td>\n",
       "    </tr>\n",
       "    <tr>\n",
       "      <th>XGBClassifier</th>\n",
       "      <td>0.79</td>\n",
       "      <td>0.73</td>\n",
       "      <td>0.79</td>\n",
       "      <td>0.76</td>\n",
       "      <td>0.84</td>\n",
       "    </tr>\n",
       "    <tr>\n",
       "      <th>LGBMClassifier</th>\n",
       "      <td>0.81</td>\n",
       "      <td>0.74</td>\n",
       "      <td>0.81</td>\n",
       "      <td>0.77</td>\n",
       "      <td>1.05</td>\n",
       "    </tr>\n",
       "    <tr>\n",
       "      <th>CatBoostClassifier</th>\n",
       "      <td>0.73</td>\n",
       "      <td>0.77</td>\n",
       "      <td>0.73</td>\n",
       "      <td>0.75</td>\n",
       "      <td>1.41</td>\n",
       "    </tr>\n",
       "  </tbody>\n",
       "</table>\n",
       "</div>"
      ],
      "text/plain": [
       "                            accuracy  prediction  recall  f1_score  run_time\n",
       "LogisticRegression              0.65        0.78    0.65      0.71      0.37\n",
       "RandomForestClassifier          0.72        0.73    0.72      0.73      9.08\n",
       "AdaBoostClassifier              0.72        0.77    0.72      0.74     37.37\n",
       "GradientBoostingClassifier      0.80        0.73    0.80      0.77     33.06\n",
       "XGBClassifier                   0.79        0.73    0.79      0.76      0.84\n",
       "LGBMClassifier                  0.81        0.74    0.81      0.77      1.05\n",
       "CatBoostClassifier              0.73        0.77    0.73      0.75      1.41"
      ]
     },
     "execution_count": 86,
     "metadata": {},
     "output_type": "execute_result"
    }
   ],
   "source": [
    "Train_Evaluate_Models(balanced_bogo, bogo_testX, bogo_testy)"
   ]
  },
  {
   "cell_type": "code",
   "execution_count": 87,
   "metadata": {},
   "outputs": [
    {
     "name": "stderr",
     "output_type": "stream",
     "text": [
      "/Library/Frameworks/Python.framework/Versions/3.9/lib/python3.9/site-packages/xgboost/sklearn.py:888: UserWarning: The use of label encoder in XGBClassifier is deprecated and will be removed in a future release. To remove this warning, do the following: 1) Pass option use_label_encoder=False when constructing XGBClassifier object; and 2) Encode your labels (y) as integers starting with 0, i.e. 0, 1, 2, ..., [num_class - 1].\n",
      "  warnings.warn(label_encoder_deprecation_msg, UserWarning)\n"
     ]
    },
    {
     "name": "stdout",
     "output_type": "stream",
     "text": [
      "[22:28:20] WARNING: /Users/travis/build/dmlc/xgboost/src/learner.cc:1061: Starting in XGBoost 1.3.0, the default evaluation metric used with the objective 'binary:logistic' was changed from 'error' to 'logloss'. Explicitly set eval_metric if you'd like to restore the old behavior.\n"
     ]
    },
    {
     "data": {
      "text/html": [
       "<div>\n",
       "<style scoped>\n",
       "    .dataframe tbody tr th:only-of-type {\n",
       "        vertical-align: middle;\n",
       "    }\n",
       "\n",
       "    .dataframe tbody tr th {\n",
       "        vertical-align: top;\n",
       "    }\n",
       "\n",
       "    .dataframe thead th {\n",
       "        text-align: right;\n",
       "    }\n",
       "</style>\n",
       "<table border=\"1\" class=\"dataframe\">\n",
       "  <thead>\n",
       "    <tr style=\"text-align: right;\">\n",
       "      <th></th>\n",
       "      <th>accuracy</th>\n",
       "      <th>prediction</th>\n",
       "      <th>recall</th>\n",
       "      <th>f1_score</th>\n",
       "      <th>run_time</th>\n",
       "    </tr>\n",
       "  </thead>\n",
       "  <tbody>\n",
       "    <tr>\n",
       "      <th>LogisticRegression</th>\n",
       "      <td>0.62</td>\n",
       "      <td>0.72</td>\n",
       "      <td>0.62</td>\n",
       "      <td>0.67</td>\n",
       "      <td>0.20</td>\n",
       "    </tr>\n",
       "    <tr>\n",
       "      <th>RandomForestClassifier</th>\n",
       "      <td>0.69</td>\n",
       "      <td>0.70</td>\n",
       "      <td>0.69</td>\n",
       "      <td>0.69</td>\n",
       "      <td>10.53</td>\n",
       "    </tr>\n",
       "    <tr>\n",
       "      <th>AdaBoostClassifier</th>\n",
       "      <td>0.70</td>\n",
       "      <td>0.73</td>\n",
       "      <td>0.70</td>\n",
       "      <td>0.72</td>\n",
       "      <td>35.24</td>\n",
       "    </tr>\n",
       "    <tr>\n",
       "      <th>GradientBoostingClassifier</th>\n",
       "      <td>0.77</td>\n",
       "      <td>0.71</td>\n",
       "      <td>0.77</td>\n",
       "      <td>0.74</td>\n",
       "      <td>29.09</td>\n",
       "    </tr>\n",
       "    <tr>\n",
       "      <th>XGBClassifier</th>\n",
       "      <td>0.76</td>\n",
       "      <td>0.69</td>\n",
       "      <td>0.76</td>\n",
       "      <td>0.72</td>\n",
       "      <td>1.01</td>\n",
       "    </tr>\n",
       "    <tr>\n",
       "      <th>LGBMClassifier</th>\n",
       "      <td>0.78</td>\n",
       "      <td>0.71</td>\n",
       "      <td>0.78</td>\n",
       "      <td>0.74</td>\n",
       "      <td>0.77</td>\n",
       "    </tr>\n",
       "    <tr>\n",
       "      <th>CatBoostClassifier</th>\n",
       "      <td>0.79</td>\n",
       "      <td>0.63</td>\n",
       "      <td>0.79</td>\n",
       "      <td>0.70</td>\n",
       "      <td>0.23</td>\n",
       "    </tr>\n",
       "  </tbody>\n",
       "</table>\n",
       "</div>"
      ],
      "text/plain": [
       "                            accuracy  prediction  recall  f1_score  run_time\n",
       "LogisticRegression              0.62        0.72    0.62      0.67      0.20\n",
       "RandomForestClassifier          0.69        0.70    0.69      0.69     10.53\n",
       "AdaBoostClassifier              0.70        0.73    0.70      0.72     35.24\n",
       "GradientBoostingClassifier      0.77        0.71    0.77      0.74     29.09\n",
       "XGBClassifier                   0.76        0.69    0.76      0.72      1.01\n",
       "LGBMClassifier                  0.78        0.71    0.78      0.74      0.77\n",
       "CatBoostClassifier              0.79        0.63    0.79      0.70      0.23"
      ]
     },
     "execution_count": 87,
     "metadata": {},
     "output_type": "execute_result"
    }
   ],
   "source": [
    "Train_Evaluate_Models(balanced_disc, disc_testX, disc_testy)"
   ]
  },
  {
   "cell_type": "code",
   "execution_count": 88,
   "metadata": {},
   "outputs": [
    {
     "name": "stderr",
     "output_type": "stream",
     "text": [
      "/Library/Frameworks/Python.framework/Versions/3.9/lib/python3.9/site-packages/xgboost/sklearn.py:888: UserWarning: The use of label encoder in XGBClassifier is deprecated and will be removed in a future release. To remove this warning, do the following: 1) Pass option use_label_encoder=False when constructing XGBClassifier object; and 2) Encode your labels (y) as integers starting with 0, i.e. 0, 1, 2, ..., [num_class - 1].\n",
      "  warnings.warn(label_encoder_deprecation_msg, UserWarning)\n"
     ]
    },
    {
     "name": "stdout",
     "output_type": "stream",
     "text": [
      "[22:29:15] WARNING: /Users/travis/build/dmlc/xgboost/src/learner.cc:1061: Starting in XGBoost 1.3.0, the default evaluation metric used with the objective 'binary:logistic' was changed from 'error' to 'logloss'. Explicitly set eval_metric if you'd like to restore the old behavior.\n"
     ]
    },
    {
     "data": {
      "text/html": [
       "<div>\n",
       "<style scoped>\n",
       "    .dataframe tbody tr th:only-of-type {\n",
       "        vertical-align: middle;\n",
       "    }\n",
       "\n",
       "    .dataframe tbody tr th {\n",
       "        vertical-align: top;\n",
       "    }\n",
       "\n",
       "    .dataframe thead th {\n",
       "        text-align: right;\n",
       "    }\n",
       "</style>\n",
       "<table border=\"1\" class=\"dataframe\">\n",
       "  <thead>\n",
       "    <tr style=\"text-align: right;\">\n",
       "      <th></th>\n",
       "      <th>accuracy</th>\n",
       "      <th>prediction</th>\n",
       "      <th>recall</th>\n",
       "      <th>f1_score</th>\n",
       "      <th>run_time</th>\n",
       "    </tr>\n",
       "  </thead>\n",
       "  <tbody>\n",
       "    <tr>\n",
       "      <th>LogisticRegression</th>\n",
       "      <td>0.64</td>\n",
       "      <td>0.88</td>\n",
       "      <td>0.64</td>\n",
       "      <td>0.74</td>\n",
       "      <td>0.28</td>\n",
       "    </tr>\n",
       "    <tr>\n",
       "      <th>RandomForestClassifier</th>\n",
       "      <td>0.86</td>\n",
       "      <td>0.86</td>\n",
       "      <td>0.86</td>\n",
       "      <td>0.86</td>\n",
       "      <td>5.24</td>\n",
       "    </tr>\n",
       "    <tr>\n",
       "      <th>AdaBoostClassifier</th>\n",
       "      <td>0.78</td>\n",
       "      <td>0.87</td>\n",
       "      <td>0.78</td>\n",
       "      <td>0.82</td>\n",
       "      <td>19.62</td>\n",
       "    </tr>\n",
       "    <tr>\n",
       "      <th>GradientBoostingClassifier</th>\n",
       "      <td>0.90</td>\n",
       "      <td>0.86</td>\n",
       "      <td>0.90</td>\n",
       "      <td>0.88</td>\n",
       "      <td>17.49</td>\n",
       "    </tr>\n",
       "    <tr>\n",
       "      <th>XGBClassifier</th>\n",
       "      <td>0.90</td>\n",
       "      <td>0.86</td>\n",
       "      <td>0.90</td>\n",
       "      <td>0.88</td>\n",
       "      <td>0.81</td>\n",
       "    </tr>\n",
       "    <tr>\n",
       "      <th>LGBMClassifier</th>\n",
       "      <td>0.91</td>\n",
       "      <td>0.86</td>\n",
       "      <td>0.91</td>\n",
       "      <td>0.88</td>\n",
       "      <td>1.03</td>\n",
       "    </tr>\n",
       "    <tr>\n",
       "      <th>CatBoostClassifier</th>\n",
       "      <td>0.74</td>\n",
       "      <td>0.87</td>\n",
       "      <td>0.74</td>\n",
       "      <td>0.80</td>\n",
       "      <td>1.78</td>\n",
       "    </tr>\n",
       "  </tbody>\n",
       "</table>\n",
       "</div>"
      ],
      "text/plain": [
       "                            accuracy  prediction  recall  f1_score  run_time\n",
       "LogisticRegression              0.64        0.88    0.64      0.74      0.28\n",
       "RandomForestClassifier          0.86        0.86    0.86      0.86      5.24\n",
       "AdaBoostClassifier              0.78        0.87    0.78      0.82     19.62\n",
       "GradientBoostingClassifier      0.90        0.86    0.90      0.88     17.49\n",
       "XGBClassifier                   0.90        0.86    0.90      0.88      0.81\n",
       "LGBMClassifier                  0.91        0.86    0.91      0.88      1.03\n",
       "CatBoostClassifier              0.74        0.87    0.74      0.80      1.78"
      ]
     },
     "execution_count": 88,
     "metadata": {},
     "output_type": "execute_result"
    }
   ],
   "source": [
    "Train_Evaluate_Models(balanced_info, info_testX, info_testy)"
   ]
  },
  {
   "cell_type": "markdown",
   "metadata": {},
   "source": [
    "# 4. 5. Model Selection \n",
    "> **LGBMClassifier** <br>\n",
    "> For all type of offers,  \"LGBMClassifier\" shows one of the outstanding model performances. Also the model performed well within a short period of time. In this section, I additionally compare several input features that show significant difference between 'desirably' predicted samples and 'non-desirably' predicted samples. "
   ]
  },
  {
   "cell_type": "code",
   "execution_count": 89,
   "metadata": {},
   "outputs": [],
   "source": [
    "bogo_all_results = pd.DataFrame(lgbm.predict(bogo_testX), columns=['predicted_target'])\n",
    "bogo_predicted = pd.concat([bogo_testX.reset_index(), bogo_all_results], axis=1)"
   ]
  },
  {
   "cell_type": "code",
   "execution_count": 90,
   "metadata": {},
   "outputs": [],
   "source": [
    "disc_all_results = pd.DataFrame(lgbm.predict(disc_testX), columns=['predicted_target'])\n",
    "disc_predicted = pd.concat([disc_testX.reset_index(), disc_all_results], axis=1)"
   ]
  },
  {
   "cell_type": "code",
   "execution_count": 91,
   "metadata": {},
   "outputs": [],
   "source": [
    "info_all_results = pd.DataFrame(lgbm.predict(info_testX), columns=['predicted_target'])\n",
    "info_predicted = pd.concat([info_testX.reset_index(), info_all_results], axis=1)"
   ]
  },
  {
   "cell_type": "code",
   "execution_count": 92,
   "metadata": {},
   "outputs": [
    {
     "data": {
      "text/plain": [
       "Text(0.5, 1.0, 'Monetary Value (BOGO)')"
      ]
     },
     "execution_count": 92,
     "metadata": {},
     "output_type": "execute_result"
    },
    {
     "data": {
      "image/png": "[encoded data removed]",
      "text/plain": [
       "<Figure size 1080x216 with 3 Axes>"
      ]
     },
     "metadata": {},
     "output_type": "display_data"
    }
   ],
   "source": [
    "plt.figure(figsize=[15,3]) \n",
    "plt.subplots_adjust(wspace = 0.3 , hspace= 0.1)\n",
    "\n",
    "plt.subplot(1, 3, 1)\n",
    "sns.barplot(data = bogo_predicted, x = 'predicted_target', y = 'recency')\n",
    "plt.title('Recency (BOGO)', fontsize = 13)\n",
    "\n",
    "plt.subplot(1, 3, 2)\n",
    "sns.barplot(data = bogo_predicted, x = 'predicted_target', y = 'frequency')\n",
    "plt.title('Frequency (BOGO)', fontsize = 13)\n",
    "\n",
    "plt.subplot(1, 3, 3)\n",
    "sns.barplot(data = bogo_predicted, x = 'predicted_target', y = 'monetary')\n",
    "plt.title('Monetary Value (BOGO)', fontsize = 13)"
   ]
  },
  {
   "cell_type": "code",
   "execution_count": 93,
   "metadata": {},
   "outputs": [
    {
     "data": {
      "text/plain": [
       "Text(0.5, 1.0, 'Monetary (Discount)')"
      ]
     },
     "execution_count": 93,
     "metadata": {},
     "output_type": "execute_result"
    },
    {
     "data": {
      "image/png": "[encoded data removed]",
      "text/plain": [
       "<Figure size 1080x216 with 3 Axes>"
      ]
     },
     "metadata": {},
     "output_type": "display_data"
    }
   ],
   "source": [
    "plt.figure(figsize=[15,3]) \n",
    "plt.subplots_adjust(wspace = 0.3 , hspace= 0.5)\n",
    "\n",
    "plt.subplot(1, 3, 1)\n",
    "sns.barplot(data = disc_predicted, x = 'predicted_target', y = 'recency')\n",
    "plt.title('Recency (Discount)', fontsize = 13)\n",
    "\n",
    "plt.subplot(1, 3, 2)\n",
    "sns.barplot(data = disc_predicted, x = 'predicted_target', y = 'frequency')\n",
    "plt.title('Frequency (Discount)', fontsize = 13)\n",
    "\n",
    "plt.subplot(1, 3, 3)\n",
    "sns.barplot(data = disc_predicted, x = 'predicted_target', y = 'monetary')\n",
    "plt.title('Monetary (Discount)', fontsize = 13)"
   ]
  },
  {
   "cell_type": "code",
   "execution_count": 94,
   "metadata": {},
   "outputs": [
    {
     "data": {
      "text/plain": [
       "Text(0.5, 1.0, 'Monetary (Informational)')"
      ]
     },
     "execution_count": 94,
     "metadata": {},
     "output_type": "execute_result"
    },
    {
     "data": {
      "image/png": "[encoded data removed]",
      "text/plain": [
       "<Figure size 1080x216 with 3 Axes>"
      ]
     },
     "metadata": {},
     "output_type": "display_data"
    }
   ],
   "source": [
    "plt.figure(figsize=[15,3]) \n",
    "plt.subplots_adjust(wspace = 0.3 , hspace= 0.5)\n",
    "\n",
    "plt.subplot(1, 3, 1)\n",
    "sns.barplot(data = info_predicted, x = 'predicted_target', y = 'recency')\n",
    "plt.title('Recency (Informational)', fontsize = 13)\n",
    "\n",
    "plt.subplot(1, 3, 2)\n",
    "sns.barplot(data = info_predicted, x = 'predicted_target', y = 'frequency')\n",
    "plt.title('Frequency (Informational)', fontsize = 13)\n",
    "\n",
    "plt.subplot(1, 3, 3)\n",
    "sns.barplot(data = info_predicted, x = 'predicted_target', y = 'monetary')\n",
    "plt.title('Monetary (Informational)', fontsize = 13)"
   ]
  },
  {
   "cell_type": "markdown",
   "metadata": {},
   "source": [
    "# 5. Conclusion"
   ]
  },
  {
   "cell_type": "markdown",
   "metadata": {},
   "source": [
    " > In this analysis, I analysed how Starbucks customers use offers based on the transaction data. The customer profile dataset contains a few missing data. These missing values are imputed by the median value of each features. Imputation with its own median values has several advantages. Since the median value is one of the existing values, it is realistic. Also it makes the distribution less skewed. \n",
    "By adjusting the existing features in transcript dataframe, I convert the time column into day, and month columns. <br><br>\n",
    "> Using the cleaned data, I explored current business situations. The number of traffics varies in each month. It increased until the third month. The change of sales amounts follows almost identical patterns with the change of traffics. We can understand that more traffics bring better sales performances. Interestingly, although the number of traffics and sales amount are different in each month, the average spending per each transaction is remarkably similar across the months. <br><br>\n",
    "> All customers in the profile dataset purchased products at Starbucks, although not all of them received offers. The average age of customers are 54.5 years old, and their average yearly income is around 65227. There is no significant difference between genders regarding the received type of offers. Finally, the total number of offers and the number of each type of offers are not correlated with customer's ages, incomes, the number of days as a Starbucks member. <br><br>\n",
    "> The number of issued offers is unbalanced. 'BOGO' and 'Discount' types of offers are almost evenly distributed; around 30000. On the other hand, \"Informational\" type of offer is issued only the half of them (ca. 15000). Not all of the issued offers are viewed. Only 75,68% (= 57725/76277) of offers are checked by customers. Only half of issued 'BOGO' and 'discount' offers are completed. <br><br>\n",
    ">  In addition, I explored customer purchasing patterns based on RFM analysis. RFM is an evaluation method to analyse customer value. It is often used in database marketing especially in retail and professional services industries. RFM indicates the following 3 dimensions: Recency, Frequency, Monetary Value. <br><br>\n",
    "> As mentioned in Capstone proposal, I defined the desirably used offers by both Case 1 and Case 2. Based on the definition, I identified all offer usages into 2 groups: 'desirable', 'non-desirable' per each offer type. As you can see the first bar chart in the part 2, all three datasets highly imbalanced. Therefore, I alleviated the unbalanced datasets by applying Synthetic Minority Oversampling Technique (SMOTE). Then I trained each dataset with various classification models.  <br><br>\n",
    ">For all type of offers, \"LGBMClassifier\" showed the optimal model performances. It achieved 0.7742, 0.7388, 0.8830 of f1-score for bogo, discount, informational datasets, respectively, within the shorter period of time. The f1-score is considerably larger than that of the benchmark model. Also the time duration is much shorter than that of the benchmark model. The model with LGBMClassifier is more efficient than the benchmark model. "
   ]
  }
 ],
 "metadata": {
  "kernelspec": {
   "display_name": "Python 3",
   "language": "python",
   "name": "python3"
  },
  "language_info": {
   "codemirror_mode": {
    "name": "ipython",
    "version": 3
   },
   "file_extension": ".py",
   "mimetype": "text/x-python",
   "name": "python",
   "nbconvert_exporter": "python",
   "pygments_lexer": "ipython3",
   "version": "3.9.10"
  }
 },
 "nbformat": 4,
 "nbformat_minor": 4
}
